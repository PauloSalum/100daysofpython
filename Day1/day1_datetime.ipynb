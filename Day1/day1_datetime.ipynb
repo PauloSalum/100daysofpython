{
 "cells": [
  {
   "cell_type": "code",
   "execution_count": 1,
   "metadata": {},
   "outputs": [],
   "source": [
    "from datetime import datetime, date, timedelta\n",
    "from IPython.display import clear_output\n",
    "import time"
   ]
  },
  {
   "cell_type": "code",
   "execution_count": 2,
   "metadata": {},
   "outputs": [
    {
     "data": {
      "text/plain": [
       "datetime.datetime(2018, 9, 20, 22, 15, 5, 513911)"
      ]
     },
     "execution_count": 2,
     "metadata": {},
     "output_type": "execute_result"
    }
   ],
   "source": [
    "today = datetime.today()\n",
    "today"
   ]
  },
  {
   "cell_type": "code",
   "execution_count": 3,
   "metadata": {},
   "outputs": [
    {
     "data": {
      "text/plain": [
       "datetime.date(2018, 9, 20)"
      ]
     },
     "execution_count": 3,
     "metadata": {},
     "output_type": "execute_result"
    }
   ],
   "source": [
    "todaydate = date.today()\n",
    "todaydate"
   ]
  },
  {
   "cell_type": "code",
   "execution_count": 4,
   "metadata": {},
   "outputs": [],
   "source": [
    "def days_til_bday():\n",
    "    today = date.today()\n",
    "    b_mo = int(input('what is your birth month? '))\n",
    "    b_day = int(input('what is your birth day? '))\n",
    "    year = today.year\n",
    "    bday = date(year=year, \n",
    "                month=b_mo,\n",
    "                day=b_day)\n",
    "    if bday < today:\n",
    "        bday = date(year=year + 1,\n",
    "                   month=b_mo,\n",
    "                   day=b_day)\n",
    "    days_til = bday - today\n",
    "    print('{} days til bay!'.format(days_til.days))"
   ]
  },
  {
   "cell_type": "code",
   "execution_count": 5,
   "metadata": {},
   "outputs": [
    {
     "name": "stdout",
     "output_type": "stream",
     "text": [
      "what is your birth month? 2\n",
      "what is your birth day? 27\n",
      "160 days til bay!\n"
     ]
    }
   ],
   "source": [
    "days_til_bday()"
   ]
  },
  {
   "cell_type": "code",
   "execution_count": 48,
   "metadata": {},
   "outputs": [],
   "source": [
    "def timer(minutes=0, seconds=15):\n",
    "    now = datetime.today()\n",
    "    diff = timedelta(minutes=minutes,\n",
    "                     seconds=seconds)\n",
    "    prev_time = timedelta(minutes=99999999, seconds=99999999)\n",
    "    end = now + diff\n",
    "    while now < end: \n",
    "        now = datetime.today()\n",
    "        timer = end - datetime.today()\n",
    "        if timer.seconds < prev_time.seconds:\n",
    "            clear_output()\n",
    "            print(str(timer - timedelta(microseconds=timer.microseconds)))\n",
    "        prev_time = timer\n",
    "    clear_output()\n",
    "    print(now - now)"
   ]
  },
  {
   "cell_type": "code",
   "execution_count": 49,
   "metadata": {},
   "outputs": [
    {
     "name": "stdout",
     "output_type": "stream",
     "text": [
      "0:00:00\n"
     ]
    }
   ],
   "source": [
    "timer()"
   ]
  },
  {
   "cell_type": "code",
   "execution_count": null,
   "metadata": {},
   "outputs": [],
   "source": []
  }
 ],
 "metadata": {
  "kernelspec": {
   "display_name": "Python 3",
   "language": "python",
   "name": "python3"
  },
  "language_info": {
   "codemirror_mode": {
    "name": "ipython",
    "version": 3
   },
   "file_extension": ".py",
   "mimetype": "text/x-python",
   "name": "python",
   "nbconvert_exporter": "python",
   "pygments_lexer": "ipython3",
   "version": "3.6.5"
  }
 },
 "nbformat": 4,
 "nbformat_minor": 2
}
