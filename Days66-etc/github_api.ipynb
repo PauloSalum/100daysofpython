{
 "cells": [
  {
   "cell_type": "code",
   "execution_count": 2,
   "metadata": {},
   "outputs": [],
   "source": [
    "from collections import namedtuple\n",
    "import os\n",
    "\n",
    "from github import Github, InputFileContent"
   ]
  },
  {
   "cell_type": "code",
   "execution_count": 3,
   "metadata": {},
   "outputs": [
    {
     "data": {
      "text/plain": [
       "<github.MainClass.Github at 0x232a1d0c780>"
      ]
     },
     "execution_count": 3,
     "metadata": {},
     "output_type": "execute_result"
    }
   ],
   "source": [
    "gh = Github()\n",
    "gh"
   ]
  },
  {
   "cell_type": "code",
   "execution_count": 4,
   "metadata": {},
   "outputs": [
    {
     "data": {
      "text/plain": [
       "(60, 60)"
      ]
     },
     "execution_count": 4,
     "metadata": {},
     "output_type": "execute_result"
    }
   ],
   "source": [
    "gh.rate_limiting"
   ]
  },
  {
   "cell_type": "code",
   "execution_count": 5,
   "metadata": {},
   "outputs": [
    {
     "data": {
      "text/plain": [
       "NamedUser(login=\"danshorstein\")"
      ]
     },
     "execution_count": 5,
     "metadata": {},
     "output_type": "execute_result"
    }
   ],
   "source": [
    "dan = gh.get_user('danshorstein')\n",
    "dan"
   ]
  },
  {
   "cell_type": "code",
   "execution_count": 6,
   "metadata": {},
   "outputs": [
    {
     "data": {
      "text/plain": [
       "[NamedUser(login=\"NickDoesData\"),\n",
       " NamedUser(login=\"sterlingstokes\"),\n",
       " NamedUser(login=\"PaulReiber\"),\n",
       " NamedUser(login=\"ianmonat\"),\n",
       " NamedUser(login=\"Cur3hacks\"),\n",
       " NamedUser(login=\"Pratik-ITpro\"),\n",
       " NamedUser(login=\"pardome\"),\n",
       " NamedUser(login=\"EjNat\"),\n",
       " NamedUser(login=\"olamilekan000\"),\n",
       " NamedUser(login=\"KevinHock\"),\n",
       " NamedUser(login=\"pengliheng\"),\n",
       " NamedUser(login=\"Liungweiliu\"),\n",
       " NamedUser(login=\"Alexjmsherman\")]"
      ]
     },
     "execution_count": 6,
     "metadata": {},
     "output_type": "execute_result"
    }
   ],
   "source": [
    "[follower for follower in dan.get_followers()]"
   ]
  },
  {
   "cell_type": "code",
   "execution_count": 7,
   "metadata": {},
   "outputs": [],
   "source": [
    "Repo = namedtuple('Repo', 'name stars forks')\n",
    "def get_repo_stats(user):\n",
    "    return [Repo(repo.name, repo.stargazers_count, repo.forks_count)\n",
    "             for repo in user.get_repos()\n",
    "             if not repo.fork]"
   ]
  },
  {
   "cell_type": "code",
   "execution_count": 8,
   "metadata": {},
   "outputs": [],
   "source": [
    "repos = get_repo_stats(dan)"
   ]
  },
  {
   "cell_type": "code",
   "execution_count": 9,
   "metadata": {},
   "outputs": [
    {
     "data": {
      "text/plain": [
       "[Repo(name='100daysofpython', stars=0, forks=0),\n",
       " Repo(name='alexa-kosher-pickup-lines', stars=0, forks=0),\n",
       " Repo(name='alexa-reddit-joke', stars=10, forks=1),\n",
       " Repo(name='bad-advice-alexa-skill', stars=0, forks=0),\n",
       " Repo(name='cpatoolz', stars=4, forks=1),\n",
       " Repo(name='dan-shorstein', stars=0, forks=0),\n",
       " Repo(name='danshorstein.github.io', stars=0, forks=0),\n",
       " Repo(name='ficpa_article', stars=2, forks=0),\n",
       " Repo(name='isaca_presentation_2018', stars=0, forks=0),\n",
       " Repo(name='omb', stars=0, forks=0),\n",
       " Repo(name='parsizzle', stars=0, forks=0),\n",
       " Repo(name='PDF-yeah', stars=0, forks=1),\n",
       " Repo(name='pdfparse', stars=1, forks=0),\n",
       " Repo(name='powershell_for_pythonistas', stars=0, forks=0),\n",
       " Repo(name='py-budget', stars=4, forks=0),\n",
       " Repo(name='python4cpas', stars=1, forks=0),\n",
       " Repo(name='shmidi', stars=0, forks=0),\n",
       " Repo(name='shofart', stars=0, forks=0),\n",
       " Repo(name='tfm-tool', stars=0, forks=0),\n",
       " Repo(name='twitter-gizoogle', stars=0, forks=0),\n",
       " Repo(name='usa-spent', stars=2, forks=2),\n",
       " Repo(name='ussgltc', stars=0, forks=0),\n",
       " Repo(name='vegan-chef', stars=0, forks=0),\n",
       " Repo(name='vegetabliss', stars=0, forks=0)]"
      ]
     },
     "execution_count": 9,
     "metadata": {},
     "output_type": "execute_result"
    }
   ],
   "source": [
    "repos"
   ]
  },
  {
   "cell_type": "code",
   "execution_count": null,
   "metadata": {},
   "outputs": [],
   "source": []
  },
  {
   "cell_type": "code",
   "execution_count": null,
   "metadata": {},
   "outputs": [],
   "source": []
  }
 ],
 "metadata": {
  "kernelspec": {
   "display_name": "Python 3",
   "language": "python",
   "name": "python3"
  },
  "language_info": {
   "codemirror_mode": {
    "name": "ipython",
    "version": 3
   },
   "file_extension": ".py",
   "mimetype": "text/x-python",
   "name": "python",
   "nbconvert_exporter": "python",
   "pygments_lexer": "ipython3",
   "version": "3.7.1"
  }
 },
 "nbformat": 4,
 "nbformat_minor": 2
}
