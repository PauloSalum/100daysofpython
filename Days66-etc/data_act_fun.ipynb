{
 "cells": [
  {
   "cell_type": "code",
   "execution_count": 54,
   "metadata": {},
   "outputs": [],
   "source": [
    "from uplink import Consumer, get, post, headers, Path, Query, Field"
   ]
  },
  {
   "cell_type": "code",
   "execution_count": 107,
   "metadata": {},
   "outputs": [],
   "source": [
    "class USASpending(Consumer):\n",
    "    \"\"\"A Python Client for the USASpending API.\"\"\"\n",
    "\n",
    "    @get(\"/api/v2/awards/last_updated/\")\n",
    "    def get_awards_last_updated_date(self):\n",
    "        \"\"\"Returns the last-updated date for the Award data.\"\"\"\n",
    "        \n",
    "    @get(\"/api/v2/federal_accounts/{federal_account_id}/available_object_classes\")\n",
    "    def get_object_class_by_federal_account(self, federal_account_id):\n",
    "        \"\"\"Returns minor object classes rolled up under major classes, filtered by federal account.\"\"\"\n",
    "        \n",
    "    @get(\"/api/v2/federal_accounts/{federal_account_id}/fiscal_year_snapshot/{fiscal_year}/\")\n",
    "    def get_fiscal_year_snapshot(self, federal_account_id, fiscal_year=2018):\n",
    "        \"\"\"Returns budget information for a federal account. \n",
    "        If no fiscal year is used, the federal account's most recent fiscal year is used as the default.\"\"\"\n",
    "        \n",
    "    @post(\"/api/v2/federal_accounts/\")\n",
    "    def post_federal_accounts(self,\n",
    "                              page: Field=1,\n",
    "                              limit: Field=10\n",
    "                              ):\n",
    "        \"\"\"Returns a list of federal accounts.\"\"\""
   ]
  },
  {
   "cell_type": "code",
   "execution_count": 108,
   "metadata": {},
   "outputs": [],
   "source": [
    "usaspending = USASpending(base_url=\"https://api.usaspending.gov/\")"
   ]
  },
  {
   "cell_type": "code",
   "execution_count": 6,
   "metadata": {},
   "outputs": [
    {
     "data": {
      "text/plain": [
       "{'last_updated': '12/10/2018'}"
      ]
     },
     "execution_count": 6,
     "metadata": {},
     "output_type": "execute_result"
    }
   ],
   "source": [
    "awards_updated = usaspending.get_awards_last_updated_date()\n",
    "awards_updated.json()"
   ]
  },
  {
   "cell_type": "code",
   "execution_count": 52,
   "metadata": {},
   "outputs": [],
   "source": [
    "# Get list of all federal accounts\n",
    "def get_all_federal_accounts():\n",
    "    results = []\n",
    "    has_next = True\n",
    "    page = 1\n",
    "\n",
    "    while has_next:\n",
    "        federal_accounts = usaspending.post_federal_accounts(page=page, limit=100)\n",
    "        data = federal_accounts.json()\n",
    "        # print(f'Adding page {page} of {int(data.get(\"count\") / data.get(\"limit\") + 0.99)}')\n",
    "        results.extend(data.get('results'))\n",
    "        has_next = data.get('hasNext')\n",
    "        page += 1\n",
    "              \n",
    "    return results"
   ]
  },
  {
   "cell_type": "code",
   "execution_count": 55,
   "metadata": {},
   "outputs": [],
   "source": [
    "fed_accounts = get_all_federal_accounts()"
   ]
  },
  {
   "cell_type": "code",
   "execution_count": 96,
   "metadata": {},
   "outputs": [
    {
     "data": {
      "text/plain": [
       "{'managing_agency_acronym': 'CFTC',\n",
       " 'account_number': '339-1402',\n",
       " 'account_name': 'Expenses, Commodity Futures Trading Commission, Unliquidating Deficiency',\n",
       " 'account_id': 6102,\n",
       " 'managing_agency': 'Commodity Futures Trading Commission',\n",
       " 'agency_identifier': '339',\n",
       " 'budgetary_resources': -149391065.92}"
      ]
     },
     "execution_count": 96,
     "metadata": {},
     "output_type": "execute_result"
    }
   ],
   "source": [
    "fed_accounts[0]"
   ]
  },
  {
   "cell_type": "code",
   "execution_count": 97,
   "metadata": {},
   "outputs": [
    {
     "data": {
      "text/plain": [
       "[('Commodity Futures Trading Commission', 6102),\n",
       " ('Department of State', 4254),\n",
       " ('Executive Office of the President', 3354),\n",
       " ('Department of Transportation', 4990),\n",
       " ('Department of Transportation', 4988),\n",
       " ('Department of Transportation', 4979),\n",
       " ('Department of Transportation', 4986),\n",
       " ('Department of Transportation', 4975),\n",
       " ('Department of Transportation', 4981),\n",
       " ('Department of Transportation', 4985)]"
      ]
     },
     "execution_count": 97,
     "metadata": {},
     "output_type": "execute_result"
    }
   ],
   "source": [
    "[(agency['managing_agency'], agency['account_id']) for agency in fed_accounts][:10]"
   ]
  },
  {
   "cell_type": "code",
   "execution_count": 98,
   "metadata": {},
   "outputs": [],
   "source": [
    "def lookup_agency_by_name(name, fed_accounts):\n",
    "    '''Returns a list of agencies that contain name provided'''\n",
    "    return [(agency['managing_agency'], agency['account_name'], agency['account_id'])\n",
    "            for agency in fed_accounts\n",
    "            if name.lower() in str(agency['managing_agency']).lower()]"
   ]
  },
  {
   "cell_type": "code",
   "execution_count": 99,
   "metadata": {},
   "outputs": [
    {
     "data": {
      "text/plain": [
       "[('Department of the Air Force', 'Air Force Cadet Fund, Air Force', 4843),\n",
       " ('Department of the Air Force',\n",
       "  'Military Construction - Recovery Act, Air National Guard',\n",
       "  4817),\n",
       " ('Department of the Air Force',\n",
       "  'Family Housing Construction - Recovery Act, Air Force',\n",
       "  4792),\n",
       " ('Department of the Air Force',\n",
       "  'Tanker Replacement Transfer Fund, Air Force',\n",
       "  4803),\n",
       " ('Department of the Air Force',\n",
       "  'Military Construction - Recovery Act, Air Force',\n",
       "  4806)]"
      ]
     },
     "execution_count": 99,
     "metadata": {},
     "output_type": "execute_result"
    }
   ],
   "source": [
    "lookup_agency_by_name('air force', fed_accounts)[:5]"
   ]
  },
  {
   "cell_type": "code",
   "execution_count": 101,
   "metadata": {},
   "outputs": [
    {
     "data": {
      "text/plain": [
       "[{'minor_object_class': [{'name': 'Refunds', 'id': '440'}],\n",
       "  'name': 'Grants and fixed charges',\n",
       "  'id': '40'},\n",
       " {'minor_object_class': [{'name': '', 'id': '000'}],\n",
       "  'name': 'Unknown',\n",
       "  'id': '00'}]"
      ]
     },
     "execution_count": 101,
     "metadata": {},
     "output_type": "execute_result"
    }
   ],
   "source": [
    "af_cadet_fund = '4843'\n",
    "af_cadet_obj_class = usaspending.get_object_class_by_federal_account(af_cadet_fund)\n",
    "af_cadet_obj_class.json()['results']"
   ]
  },
  {
   "cell_type": "code",
   "execution_count": 110,
   "metadata": {},
   "outputs": [
    {
     "data": {
      "text/plain": [
       "{'results': {'name': 'Air Force Cadet Fund, Air Force',\n",
       "  'unobligated': 0.0,\n",
       "  'other_budgetary_resources': 252678.96,\n",
       "  'outlay': 0.0,\n",
       "  'balance_brought_forward': 0.0,\n",
       "  'budget_authority': 252678.96,\n",
       "  'appropriations': 0.0,\n",
       "  'obligated': 252678.96}}"
      ]
     },
     "execution_count": 110,
     "metadata": {},
     "output_type": "execute_result"
    }
   ],
   "source": [
    "af_cadet_fy_snapshot = usaspending.get_fiscal_year_snapshot(af_cadet_fund, 2017)\n",
    "af_cadet_fy_snapshot.json()"
   ]
  },
  {
   "cell_type": "code",
   "execution_count": 111,
   "metadata": {},
   "outputs": [
    {
     "data": {
      "text/plain": [
       "{'results': {'name': 'Air Force Cadet Fund, Air Force',\n",
       "  'unobligated': 0.0,\n",
       "  'other_budgetary_resources': 0.0,\n",
       "  'outlay': -431940.04,\n",
       "  'balance_brought_forward': 0.0,\n",
       "  'budget_authority': 0.0,\n",
       "  'appropriations': 0.0,\n",
       "  'obligated': 0.0}}"
      ]
     },
     "execution_count": 111,
     "metadata": {},
     "output_type": "execute_result"
    }
   ],
   "source": [
    "af_cadet_fy_snapshot = usaspending.get_fiscal_year_snapshot(af_cadet_fund, 2018)\n",
    "af_cadet_fy_snapshot.json()"
   ]
  },
  {
   "cell_type": "code",
   "execution_count": null,
   "metadata": {},
   "outputs": [],
   "source": []
  }
 ],
 "metadata": {
  "kernelspec": {
   "display_name": "Python 3",
   "language": "python",
   "name": "python3"
  },
  "language_info": {
   "codemirror_mode": {
    "name": "ipython",
    "version": 3
   },
   "file_extension": ".py",
   "mimetype": "text/x-python",
   "name": "python",
   "nbconvert_exporter": "python",
   "pygments_lexer": "ipython3",
   "version": "3.7.1"
  }
 },
 "nbformat": 4,
 "nbformat_minor": 2
}
