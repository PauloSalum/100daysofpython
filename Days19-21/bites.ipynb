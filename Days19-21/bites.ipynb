{
 "cells": [
  {
   "cell_type": "code",
   "execution_count": null,
   "metadata": {},
   "outputs": [],
   "source": [
    "import itertools\n",
    "\n",
    "names = 'Tim Bob Julian Carmen Sofia Mike Kim Andre'.split()\n",
    "locations = 'DE ES AUS NL BR US'.split()\n",
    "confirmed = [False, True, True, False, True]"
   ]
  },
  {
   "cell_type": "code",
   "execution_count": null,
   "metadata": {},
   "outputs": [],
   "source": [
    "def get_attendees():\n",
    "    for participant in itertools.zip_longest(names, locations, confirmed, fillvalue='-'):\n",
    "        print(participant)"
   ]
  },
  {
   "cell_type": "code",
   "execution_count": null,
   "metadata": {},
   "outputs": [],
   "source": [
    "get_attendees()"
   ]
  },
  {
   "cell_type": "markdown",
   "metadata": {},
   "source": [
    "## Bite 2"
   ]
  },
  {
   "cell_type": "code",
   "execution_count": null,
   "metadata": {},
   "outputs": [],
   "source": [
    "def friends_teams(friends, team_size=2, order_does_matter=False):\n",
    "    if order_does_matter:\n",
    "        return itertools.permutations(friends, team_size)\n",
    "    return itertools.combinations(friends, team_size)"
   ]
  },
  {
   "cell_type": "code",
   "execution_count": null,
   "metadata": {},
   "outputs": [],
   "source": [
    "print(list(friend for friend in (friends_teams('Bob Dante Julian Martin'.split()))))"
   ]
  },
  {
   "cell_type": "markdown",
   "metadata": {},
   "source": [
    "## Bite 3"
   ]
  },
  {
   "cell_type": "code",
   "execution_count": 1,
   "metadata": {},
   "outputs": [],
   "source": [
    "import itertools\n",
    "import os\n",
    "import urllib.request"
   ]
  },
  {
   "cell_type": "code",
   "execution_count": 2,
   "metadata": {},
   "outputs": [
    {
     "data": {
      "text/plain": [
       "('dictionary.txt', <http.client.HTTPMessage at 0x23be2a5db38>)"
      ]
     },
     "execution_count": 2,
     "metadata": {},
     "output_type": "execute_result"
    }
   ],
   "source": [
    "DICTIONARY = 'dictionary.txt'\n",
    "urllib.request.urlretrieve('http://bit.ly/2iQ3dlZ', DICTIONARY)"
   ]
  },
  {
   "cell_type": "code",
   "execution_count": 3,
   "metadata": {},
   "outputs": [],
   "source": [
    "with open(DICTIONARY) as f:\n",
    "    dictionary = set([word.strip().lower() for word in f.read().split()])"
   ]
  },
  {
   "cell_type": "code",
   "execution_count": 4,
   "metadata": {},
   "outputs": [],
   "source": [
    "def get_possible_dict_words(draw):\n",
    "    draw = ''.join(draw).lower()\n",
    "    \"\"\"Get all possible words from a draw (list of letters) which are\n",
    "       valid dictionary words. Use _get_permutations_draw and provided\n",
    "       dictionary\"\"\"\n",
    "    return set([''.join(word) for word in _get_permutations_draw(draw) if ''.join(word) in dictionary])"
   ]
  },
  {
   "cell_type": "code",
   "execution_count": 11,
   "metadata": {},
   "outputs": [],
   "source": [
    "def _get_permutations_draw(draw):\n",
    "    \"\"\"Helper to get all permutations of a draw (list of letters), hint:\n",
    "       use itertools.permutations (order of letters matters)\"\"\"\n",
    "    for size in range(len(draw)):\n",
    "        for word in itertools.permutations(draw, size):\n",
    "            yield ''.join(word)"
   ]
  },
  {
   "cell_type": "code",
   "execution_count": 12,
   "metadata": {},
   "outputs": [
    {
     "data": {
      "text/plain": [
       "{'g',\n",
       " 'gi',\n",
       " 'gil',\n",
       " 'gilt',\n",
       " 'gip',\n",
       " 'git',\n",
       " 'i',\n",
       " 'it',\n",
       " 'l',\n",
       " 'li',\n",
       " 'lip',\n",
       " 'lit',\n",
       " 'p',\n",
       " 'pi',\n",
       " 'pig',\n",
       " 'pit',\n",
       " 't',\n",
       " 'ti',\n",
       " 'tig',\n",
       " 'til',\n",
       " 'tip'}"
      ]
     },
     "execution_count": 12,
     "metadata": {},
     "output_type": "execute_result"
    }
   ],
   "source": [
    "get_possible_dict_words(['G', 'L', 'T', 'I', 'P'])"
   ]
  },
  {
   "cell_type": "code",
   "execution_count": null,
   "metadata": {},
   "outputs": [],
   "source": []
  }
 ],
 "metadata": {
  "kernelspec": {
   "display_name": "Python 3",
   "language": "python",
   "name": "python3"
  },
  "language_info": {
   "codemirror_mode": {
    "name": "ipython",
    "version": 3
   },
   "file_extension": ".py",
   "mimetype": "text/x-python",
   "name": "python",
   "nbconvert_exporter": "python",
   "pygments_lexer": "ipython3",
   "version": "3.6.6"
  }
 },
 "nbformat": 4,
 "nbformat_minor": 2
}
