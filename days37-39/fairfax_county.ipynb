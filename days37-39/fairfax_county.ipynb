{
 "cells": [
  {
   "cell_type": "code",
   "execution_count": 89,
   "metadata": {},
   "outputs": [],
   "source": [
    "from collections import namedtuple, Counter\n",
    "import csv\n",
    "\n",
    "import requests"
   ]
  },
  {
   "cell_type": "code",
   "execution_count": 67,
   "metadata": {},
   "outputs": [],
   "source": [
    "Record = namedtuple('Record', 'zonecode, shapelen, public_land, objectid, proffer, shapearea, zonetype, cluster, jurisdiction')"
   ]
  },
  {
   "cell_type": "code",
   "execution_count": 83,
   "metadata": {},
   "outputs": [],
   "source": [
    "def get_fairfax_data():\n",
    "    data = []\n",
    "        \n",
    "    url = 'http://data-fairfaxcountygis.opendata.arcgis.com/datasets/9e111a7ccbc54e7db10ece2d8d215e54_1.csv'\n",
    "    r = requests.get(url)\n",
    "    txt = r.text.split('\\n')\n",
    "    csv_txt = csv.DictReader(txt)\n",
    "    for row in csv_txt:\n",
    "        record = parse_row(row)\n",
    "        data.append(record)\n",
    "    return data"
   ]
  },
  {
   "cell_type": "code",
   "execution_count": 84,
   "metadata": {},
   "outputs": [],
   "source": [
    "def parse_row(row):\n",
    "    new_row = {}\n",
    "    new_row['zonecode'] = row['ZONECODE']\n",
    "    new_row['shapelen'] = float(row['SHAPELEN'])\n",
    "    new_row['public_land'] = row['PUBLIC_LAND']\n",
    "    new_row['objectid'] = int(row['\\ufeffOBJECTID'])\n",
    "    new_row['proffer'] = row['PROFFER']\n",
    "    new_row['shapearea'] = float(row['SHAPEAREA'])\n",
    "    new_row['zonetype'] = row['ZONETYPE']\n",
    "    new_row['cluster'] = row['CLUSTER_']\n",
    "    new_row['jurisdiction'] = row['JURISDICTION']\n",
    "    \n",
    "    return Record(**new_row)"
   ]
  },
  {
   "cell_type": "code",
   "execution_count": 86,
   "metadata": {},
   "outputs": [],
   "source": [
    "data = get_fairfax_data()"
   ]
  },
  {
   "cell_type": "code",
   "execution_count": 88,
   "metadata": {},
   "outputs": [
    {
     "data": {
      "text/plain": [
       "6358"
      ]
     },
     "execution_count": 88,
     "metadata": {},
     "output_type": "execute_result"
    }
   ],
   "source": [
    "len(data)"
   ]
  },
  {
   "cell_type": "code",
   "execution_count": 93,
   "metadata": {},
   "outputs": [
    {
     "data": {
      "text/plain": [
       "Counter({'NO': 4511, 'YES': 1847})"
      ]
     },
     "execution_count": 93,
     "metadata": {},
     "output_type": "execute_result"
    }
   ],
   "source": [
    "Counter((item.public_land for item in data))"
   ]
  },
  {
   "cell_type": "code",
   "execution_count": 98,
   "metadata": {},
   "outputs": [
    {
     "data": {
      "text/plain": [
       "Counter({'COMMERCIAL': 923,\n",
       "         'INDUSTRIAL': 387,\n",
       "         'OTHER': 24,\n",
       "         'PLANNED UNITS': 1038,\n",
       "         'RESIDENTIAL': 3961,\n",
       "         'TYSON': 25})"
      ]
     },
     "execution_count": 98,
     "metadata": {},
     "output_type": "execute_result"
    }
   ],
   "source": [
    "Counter((item.zonetype for item in data))"
   ]
  },
  {
   "cell_type": "code",
   "execution_count": 102,
   "metadata": {},
   "outputs": [],
   "source": [
    "# 5 largest items by shape area\n",
    "def get_largest_area():\n",
    "    return sorted(data, key=lambda x: -x.shapearea)[:5]"
   ]
  },
  {
   "cell_type": "code",
   "execution_count": 103,
   "metadata": {},
   "outputs": [
    {
     "data": {
      "text/plain": [
       "[Record(zonecode='R-C', shapelen=80092.5400189624, public_land='NO', objectid=25079, proffer='', shapearea=144685951.569454, zonetype='RESIDENTIAL', cluster='', jurisdiction='FAIRFAX COUNTY'),\n",
       " Record(zonecode='R-E', shapelen=53687.0539938699, public_land='NO', objectid=48439, proffer='', shapearea=143184984.163796, zonetype='RESIDENTIAL', cluster='', jurisdiction='FAIRFAX COUNTY'),\n",
       " Record(zonecode='R-C', shapelen=119120.840614294, public_land='NO', objectid=47481, proffer='', shapearea=134986339.185122, zonetype='RESIDENTIAL', cluster='', jurisdiction='FAIRFAX COUNTY'),\n",
       " Record(zonecode='R-E', shapelen=110353.95055672, public_land='YES', objectid=33724, proffer='', shapearea=134736934.325036, zonetype='RESIDENTIAL', cluster='', jurisdiction='FAIRFAX COUNTY'),\n",
       " Record(zonecode='R-C', shapelen=94860.2070202976, public_land='YES', objectid=33735, proffer='', shapearea=130270541.169266, zonetype='RESIDENTIAL', cluster='', jurisdiction='FAIRFAX COUNTY')]"
      ]
     },
     "execution_count": 103,
     "metadata": {},
     "output_type": "execute_result"
    }
   ],
   "source": [
    "get_largest_area()"
   ]
  },
  {
   "cell_type": "code",
   "execution_count": 104,
   "metadata": {},
   "outputs": [],
   "source": [
    "# 5 smallest by area\n",
    "def get_smallest_area():\n",
    "    return sorted(data, key=lambda x: x.shapearea)[:5]"
   ]
  },
  {
   "cell_type": "code",
   "execution_count": 105,
   "metadata": {},
   "outputs": [
    {
     "data": {
      "text/plain": [
       "[Record(zonecode='PDH-4', shapelen=7.03911927272365, public_land='NO', objectid=28609, proffer='', shapearea=0.0952385, zonetype='PLANNED UNITS', cluster='', jurisdiction='FAIRFAX COUNTY'),\n",
       " Record(zonecode='PDH-4', shapelen=7.17512728016114, public_land='NO', objectid=28603, proffer='', shapearea=0.107457, zonetype='PLANNED UNITS', cluster='', jurisdiction='FAIRFAX COUNTY'),\n",
       " Record(zonecode='R-1', shapelen=54.708138844327, public_land='NO', objectid=30609, proffer='NO', shapearea=0.2645675, zonetype='RESIDENTIAL', cluster='', jurisdiction='FAIRFAX COUNTY'),\n",
       " Record(zonecode='PDH-4', shapelen=14.9931559814692, public_land='NO', objectid=28620, proffer='', shapearea=0.733865, zonetype='PLANNED UNITS', cluster='', jurisdiction='FAIRFAX COUNTY'),\n",
       " Record(zonecode='PDH-4', shapelen=13.2463026174713, public_land='NO', objectid=12148, proffer='', shapearea=0.921855, zonetype='PLANNED UNITS', cluster='', jurisdiction='FAIRFAX COUNTY')]"
      ]
     },
     "execution_count": 105,
     "metadata": {},
     "output_type": "execute_result"
    }
   ],
   "source": [
    "get_smallest_area()"
   ]
  },
  {
   "cell_type": "code",
   "execution_count": null,
   "metadata": {},
   "outputs": [],
   "source": []
  }
 ],
 "metadata": {
  "kernelspec": {
   "display_name": "Python 3",
   "language": "python",
   "name": "python3"
  },
  "language_info": {
   "codemirror_mode": {
    "name": "ipython",
    "version": 3
   },
   "file_extension": ".py",
   "mimetype": "text/x-python",
   "name": "python",
   "nbconvert_exporter": "python",
   "pygments_lexer": "ipython3",
   "version": "3.5.6"
  }
 },
 "nbformat": 4,
 "nbformat_minor": 2
}
