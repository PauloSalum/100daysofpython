{
 "cells": [
  {
   "cell_type": "code",
   "execution_count": 89,
   "metadata": {},
   "outputs": [],
   "source": [
    "from collections import namedtuple, Counter\n",
    "import csv\n",
    "\n",
    "import requests"
   ]
  },
  {
   "cell_type": "code",
   "execution_count": 67,
   "metadata": {},
   "outputs": [],
   "source": [
    "Record = namedtuple('Record', 'zonecode, shapelen, public_land, objectid, proffer, shapearea, zonetype, cluster, jurisdiction')"
   ]
  },
  {
   "cell_type": "code",
   "execution_count": 83,
   "metadata": {},
   "outputs": [],
   "source": [
    "def get_fairfax_data():\n",
    "    data = []\n",
    "        \n",
    "    url = 'http://data-fairfaxcountygis.opendata.arcgis.com/datasets/9e111a7ccbc54e7db10ece2d8d215e54_1.csv'\n",
    "    r = requests.get(url)\n",
    "    txt = r.text.split('\\n')\n",
    "    csv_txt = csv.DictReader(txt)\n",
    "    for row in csv_txt:\n",
    "        record = parse_row(row)\n",
    "        data.append(record)\n",
    "    return data"
   ]
  },
  {
   "cell_type": "code",
   "execution_count": 84,
   "metadata": {},
   "outputs": [],
   "source": [
    "def parse_row(row):\n",
    "    new_row = {}\n",
    "    new_row['zonecode'] = row['ZONECODE']\n",
    "    new_row['shapelen'] = float(row['SHAPELEN'])\n",
    "    new_row['public_land'] = row['PUBLIC_LAND']\n",
    "    new_row['objectid'] = int(row['\\ufeffOBJECTID'])\n",
    "    new_row['proffer'] = row['PROFFER']\n",
    "    new_row['shapearea'] = float(row['SHAPEAREA'])\n",
    "    new_row['zonetype'] = row['ZONETYPE']\n",
    "    new_row['cluster'] = row['CLUSTER_']\n",
    "    new_row['jurisdiction'] = row['JURISDICTION']\n",
    "    \n",
    "    return Record(**new_row)"
   ]
  },
  {
   "cell_type": "code",
   "execution_count": 86,
   "metadata": {},
   "outputs": [],
   "source": [
    "data = get_fairfax_data()"
   ]
  },
  {
   "cell_type": "code",
   "execution_count": 88,
   "metadata": {},
   "outputs": [
    {
     "data": {
      "text/plain": [
       "6358"
      ]
     },
     "execution_count": 88,
     "metadata": {},
     "output_type": "execute_result"
    }
   ],
   "source": [
    "len(data)"
   ]
  },
  {
   "cell_type": "code",
   "execution_count": 93,
   "metadata": {},
   "outputs": [
    {
     "data": {
      "text/plain": [
       "Counter({'NO': 4511, 'YES': 1847})"
      ]
     },
     "execution_count": 93,
     "metadata": {},
     "output_type": "execute_result"
    }
   ],
   "source": [
    "Counter((item.public_land for item in data))"
   ]
  },
  {
   "cell_type": "code",
   "execution_count": 98,
   "metadata": {},
   "outputs": [
    {
     "data": {
      "text/plain": [
       "Counter({'COMMERCIAL': 923,\n",
       "         'INDUSTRIAL': 387,\n",
       "         'OTHER': 24,\n",
       "         'PLANNED UNITS': 1038,\n",
       "         'RESIDENTIAL': 3961,\n",
       "         'TYSON': 25})"
      ]
     },
     "execution_count": 98,
     "metadata": {},
     "output_type": "execute_result"
    }
   ],
   "source": [
    "Counter((item.zonetype for item in data))"
   ]
  },
  {
   "cell_type": "code",
   "execution_count": 102,
   "metadata": {},
   "outputs": [],
   "source": [
    "# 5 largest items by shape area\n",
    "def get_largest_area():\n",
    "    return sorted(data, key=lambda x: -x.shapearea)[:5]"
   ]
  },
  {
   "cell_type": "code",
   "execution_count": 103,
   "metadata": {},
   "outputs": [
    {
     "data": {
      "text/plain": [
       "[Record(zonecode='R-C', shapelen=80092.5400189624, public_land='NO', objectid=25079, proffer='', shapearea=144685951.569454, zonetype='RESIDENTIAL', cluster='', jurisdiction='FAIRFAX COUNTY'),\n",
       " Record(zonecode='R-E', shapelen=53687.0539938699, public_land='NO', objectid=48439, proffer='', shapearea=143184984.163796, zonetype='RESIDENTIAL', cluster='', jurisdiction='FAIRFAX COUNTY'),\n",
       " Record(zonecode='R-C', shapelen=119120.840614294, public_land='NO', objectid=47481, proffer='', shapearea=134986339.185122, zonetype='RESIDENTIAL', cluster='', jurisdiction='FAIRFAX COUNTY'),\n",
       " Record(zonecode='R-E', shapelen=110353.95055672, public_land='YES', objectid=33724, proffer='', shapearea=134736934.325036, zonetype='RESIDENTIAL', cluster='', jurisdiction='FAIRFAX COUNTY'),\n",
       " Record(zonecode='R-C', shapelen=94860.2070202976, public_land='YES', objectid=33735, proffer='', shapearea=130270541.169266, zonetype='RESIDENTIAL', cluster='', jurisdiction='FAIRFAX COUNTY')]"
      ]
     },
     "execution_count": 103,
     "metadata": {},
     "output_type": "execute_result"
    }
   ],
   "source": [
    "get_largest_area()"
   ]
  },
  {
   "cell_type": "code",
   "execution_count": 104,
   "metadata": {},
   "outputs": [],
   "source": [
    "# 5 smallest by area\n",
    "def get_smallest_area():\n",
    "    return sorted(data, key=lambda x: x.shapearea)[:5]"
   ]
  },
  {
   "cell_type": "code",
   "execution_count": 105,
   "metadata": {},
   "outputs": [
    {
     "data": {
      "text/plain": [
       "[Record(zonecode='PDH-4', shapelen=7.03911927272365, public_land='NO', objectid=28609, proffer='', shapearea=0.0952385, zonetype='PLANNED UNITS', cluster='', jurisdiction='FAIRFAX COUNTY'),\n",
       " Record(zonecode='PDH-4', shapelen=7.17512728016114, public_land='NO', objectid=28603, proffer='', shapearea=0.107457, zonetype='PLANNED UNITS', cluster='', jurisdiction='FAIRFAX COUNTY'),\n",
       " Record(zonecode='R-1', shapelen=54.708138844327, public_land='NO', objectid=30609, proffer='NO', shapearea=0.2645675, zonetype='RESIDENTIAL', cluster='', jurisdiction='FAIRFAX COUNTY'),\n",
       " Record(zonecode='PDH-4', shapelen=14.9931559814692, public_land='NO', objectid=28620, proffer='', shapearea=0.733865, zonetype='PLANNED UNITS', cluster='', jurisdiction='FAIRFAX COUNTY'),\n",
       " Record(zonecode='PDH-4', shapelen=13.2463026174713, public_land='NO', objectid=12148, proffer='', shapearea=0.921855, zonetype='PLANNED UNITS', cluster='', jurisdiction='FAIRFAX COUNTY')]"
      ]
     },
     "execution_count": 105,
     "metadata": {},
     "output_type": "execute_result"
    }
   ],
   "source": [
    "get_smallest_area()"
   ]
  },
  {
   "cell_type": "code",
   "execution_count": 125,
   "metadata": {},
   "outputs": [],
   "source": [
    "def calc_avg_area_per_unit(zone):\n",
    "    zone_data = [record for record in data if record.zonecode == zone]\n",
    "    total_area = sum([record.shapearea for record in zone_data])\n",
    "    return int(total_area / len(zone_data))"
   ]
  },
  {
   "cell_type": "code",
   "execution_count": 134,
   "metadata": {},
   "outputs": [],
   "source": [
    "def calc_largest_zone_avg():\n",
    "    zones = {}\n",
    "    for zone in set([record.zonecode for record in data]):\n",
    "        zones[zone] = calc_avg_area_per_unit(zone)\n",
    "    return sorted(zones.items(), key=lambda x: -x[1])[:5]"
   ]
  },
  {
   "cell_type": "code",
   "execution_count": 135,
   "metadata": {},
   "outputs": [],
   "source": [
    "zones = calc_largest_zone_avg()"
   ]
  },
  {
   "cell_type": "code",
   "execution_count": 136,
   "metadata": {},
   "outputs": [
    {
     "data": {
      "text/plain": [
       "[('R-C', 10410371),\n",
       " ('R-E', 9583128),\n",
       " ('PRC', 5670206),\n",
       " ('O&LI', 4511419),\n",
       " ('PD-W', 4025568)]"
      ]
     },
     "execution_count": 136,
     "metadata": {},
     "output_type": "execute_result"
    }
   ],
   "source": [
    "zones"
   ]
  },
  {
   "cell_type": "code",
   "execution_count": 137,
   "metadata": {},
   "outputs": [
    {
     "data": {
      "text/plain": [
       "[Record(zonecode='R-C', shapelen=626.392962946458, public_land='NO', objectid=25072, proffer='', shapearea=21649.672296, zonetype='RESIDENTIAL', cluster='', jurisdiction='FAIRFAX COUNTY'),\n",
       " Record(zonecode='R-C', shapelen=5444.06948917249, public_land='NO', objectid=25073, proffer='', shapearea=1352008.316768, zonetype='RESIDENTIAL', cluster='', jurisdiction='FAIRFAX COUNTY'),\n",
       " Record(zonecode='R-C', shapelen=239.376399692304, public_land='NO', objectid=25074, proffer='', shapearea=1638.071848, zonetype='RESIDENTIAL', cluster='', jurisdiction='FAIRFAX COUNTY'),\n",
       " Record(zonecode='R-C', shapelen=186.705853960043, public_land='NO', objectid=25075, proffer='', shapearea=747.91701, zonetype='RESIDENTIAL', cluster='', jurisdiction='FAIRFAX COUNTY'),\n",
       " Record(zonecode='R-C', shapelen=174.045530376792, public_land='NO', objectid=25076, proffer='', shapearea=1414.31086, zonetype='RESIDENTIAL', cluster='', jurisdiction='FAIRFAX COUNTY'),\n",
       " Record(zonecode='R-C', shapelen=1800.8419291544, public_land='NO', objectid=25077, proffer='', shapearea=18532.0540795, zonetype='RESIDENTIAL', cluster='', jurisdiction='FAIRFAX COUNTY'),\n",
       " Record(zonecode='R-C', shapelen=17326.9385233277, public_land='NO', objectid=25078, proffer='', shapearea=7284989.317976, zonetype='RESIDENTIAL', cluster='', jurisdiction='FAIRFAX COUNTY'),\n",
       " Record(zonecode='R-C', shapelen=80092.5400189624, public_land='NO', objectid=25079, proffer='', shapearea=144685951.569454, zonetype='RESIDENTIAL', cluster='', jurisdiction='FAIRFAX COUNTY'),\n",
       " Record(zonecode='R-C', shapelen=2441.92268553217, public_land='NO', objectid=25080, proffer='', shapearea=283510.458162, zonetype='RESIDENTIAL', cluster='', jurisdiction='FAIRFAX COUNTY'),\n",
       " Record(zonecode='R-C', shapelen=38117.7819674433, public_land='NO', objectid=25081, proffer='', shapearea=22167323.458364, zonetype='RESIDENTIAL', cluster='', jurisdiction='FAIRFAX COUNTY'),\n",
       " Record(zonecode='R-C', shapelen=1441.27003942874, public_land='NO', objectid=25083, proffer='', shapearea=45497.3747805, zonetype='RESIDENTIAL', cluster='', jurisdiction='FAIRFAX COUNTY'),\n",
       " Record(zonecode='R-C', shapelen=5193.6089024957, public_land='NO', objectid=25096, proffer='', shapearea=503820.683770594, zonetype='RESIDENTIAL', cluster='', jurisdiction='FAIRFAX COUNTY'),\n",
       " Record(zonecode='R-C', shapelen=7232.75089886713, public_land='NO', objectid=25097, proffer='', shapearea=1353858.03103625, zonetype='RESIDENTIAL', cluster='', jurisdiction='FAIRFAX COUNTY'),\n",
       " Record(zonecode='R-C', shapelen=47623.0274185841, public_land='NO', objectid=25146, proffer='', shapearea=115325725.174072, zonetype='RESIDENTIAL', cluster='', jurisdiction='FAIRFAX COUNTY'),\n",
       " Record(zonecode='R-C', shapelen=598.256055118049, public_land='NO', objectid=25149, proffer='', shapearea=9469.858245, zonetype='RESIDENTIAL', cluster='', jurisdiction='FAIRFAX COUNTY'),\n",
       " Record(zonecode='R-C', shapelen=21100.0059072834, public_land='NO', objectid=25150, proffer='', shapearea=12396649.882846, zonetype='RESIDENTIAL', cluster='', jurisdiction='FAIRFAX COUNTY'),\n",
       " Record(zonecode='R-C', shapelen=1454.1722226843, public_land='NO', objectid=25162, proffer='', shapearea=127794.029512, zonetype='RESIDENTIAL', cluster='', jurisdiction='FAIRFAX COUNTY'),\n",
       " Record(zonecode='R-C', shapelen=8533.83412006784, public_land='NO', objectid=25175, proffer='', shapearea=2109826.13860009, zonetype='RESIDENTIAL', cluster='', jurisdiction='FAIRFAX COUNTY'),\n",
       " Record(zonecode='R-C', shapelen=683.793602887831, public_land='NO', objectid=25178, proffer='', shapearea=3507.327869875, zonetype='RESIDENTIAL', cluster='', jurisdiction='FAIRFAX COUNTY'),\n",
       " Record(zonecode='R-C', shapelen=10669.8554617997, public_land='NO', objectid=25191, proffer='', shapearea=1978823.740031, zonetype='RESIDENTIAL', cluster='', jurisdiction='FAIRFAX COUNTY'),\n",
       " Record(zonecode='R-C', shapelen=552.969908346471, public_land='NO', objectid=25192, proffer='', shapearea=16272.269188, zonetype='RESIDENTIAL', cluster='', jurisdiction='FAIRFAX COUNTY'),\n",
       " Record(zonecode='R-C', shapelen=17060.9016465675, public_land='NO', objectid=25203, proffer='', shapearea=15233434.1242187, zonetype='RESIDENTIAL', cluster='', jurisdiction='FAIRFAX COUNTY'),\n",
       " Record(zonecode='R-C', shapelen=1441.04283316765, public_land='NO', objectid=25204, proffer='', shapearea=130797.455088, zonetype='RESIDENTIAL', cluster='', jurisdiction='FAIRFAX COUNTY'),\n",
       " Record(zonecode='R-C', shapelen=2050.8108545655, public_land='NO', objectid=25215, proffer='', shapearea=215245.393236, zonetype='RESIDENTIAL', cluster='', jurisdiction='FAIRFAX COUNTY'),\n",
       " Record(zonecode='R-C', shapelen=34051.2925821059, public_land='NO', objectid=25216, proffer='', shapearea=20809920.9823334, zonetype='RESIDENTIAL', cluster='', jurisdiction='FAIRFAX COUNTY'),\n",
       " Record(zonecode='R-C', shapelen=11393.0175097414, public_land='NO', objectid=25221, proffer='', shapearea=5345642.376129, zonetype='RESIDENTIAL', cluster='', jurisdiction='FAIRFAX COUNTY'),\n",
       " Record(zonecode='R-C', shapelen=46840.1557458818, public_land='NO', objectid=25225, proffer='', shapearea=79408296.931576, zonetype='RESIDENTIAL', cluster='', jurisdiction='FAIRFAX COUNTY'),\n",
       " Record(zonecode='R-C', shapelen=1990.85980593247, public_land='NO', objectid=25235, proffer='', shapearea=140277.962075, zonetype='RESIDENTIAL', cluster='', jurisdiction='FAIRFAX COUNTY'),\n",
       " Record(zonecode='R-C', shapelen=15286.2596070477, public_land='NO', objectid=25240, proffer='', shapearea=6162067.307062, zonetype='RESIDENTIAL', cluster='', jurisdiction='FAIRFAX COUNTY'),\n",
       " Record(zonecode='R-C', shapelen=512.071481133567, public_land='NO', objectid=25248, proffer='', shapearea=9973.046456, zonetype='RESIDENTIAL', cluster='', jurisdiction='FAIRFAX COUNTY'),\n",
       " Record(zonecode='R-C', shapelen=3865.03101840904, public_land='NO', objectid=25250, proffer='', shapearea=726929.280288, zonetype='RESIDENTIAL', cluster='', jurisdiction='FAIRFAX COUNTY'),\n",
       " Record(zonecode='R-C', shapelen=281.756325302481, public_land='YES', objectid=25364, proffer='', shapearea=4342.3036155, zonetype='RESIDENTIAL', cluster='', jurisdiction='FAIRFAX COUNTY'),\n",
       " Record(zonecode='R-C', shapelen=1009.43976813218, public_land='YES', objectid=25365, proffer='', shapearea=49958.9299755, zonetype='RESIDENTIAL', cluster='', jurisdiction='FAIRFAX COUNTY'),\n",
       " Record(zonecode='R-C', shapelen=948.784267536091, public_land='YES', objectid=25366, proffer='', shapearea=25798.582525, zonetype='RESIDENTIAL', cluster='', jurisdiction='FAIRFAX COUNTY'),\n",
       " Record(zonecode='R-C', shapelen=37.3830479587095, public_land='YES', objectid=25367, proffer='', shapearea=45.299336, zonetype='RESIDENTIAL', cluster='', jurisdiction='FAIRFAX COUNTY'),\n",
       " Record(zonecode='R-C', shapelen=3322.87247475797, public_land='YES', objectid=25368, proffer='', shapearea=286719.526648, zonetype='RESIDENTIAL', cluster='', jurisdiction='FAIRFAX COUNTY'),\n",
       " Record(zonecode='R-C', shapelen=100556.616658938, public_land='YES', objectid=25369, proffer='', shapearea=57942730.6029365, zonetype='RESIDENTIAL', cluster='', jurisdiction='FAIRFAX COUNTY'),\n",
       " Record(zonecode='R-C', shapelen=61096.5398782947, public_land='YES', objectid=25371, proffer='', shapearea=28425706.536734, zonetype='RESIDENTIAL', cluster='', jurisdiction='FAIRFAX COUNTY'),\n",
       " Record(zonecode='R-C', shapelen=48473.0505550026, public_land='YES', objectid=25372, proffer='', shapearea=27988493.204136, zonetype='RESIDENTIAL', cluster='', jurisdiction='FAIRFAX COUNTY'),\n",
       " Record(zonecode='R-C', shapelen=14612.7847339029, public_land='YES', objectid=25373, proffer='', shapearea=4754016.393888, zonetype='RESIDENTIAL', cluster='', jurisdiction='FAIRFAX COUNTY'),\n",
       " Record(zonecode='R-C', shapelen=598.254584338582, public_land='YES', objectid=25374, proffer='', shapearea=14025.853612, zonetype='RESIDENTIAL', cluster='', jurisdiction='FAIRFAX COUNTY'),\n",
       " Record(zonecode='R-C', shapelen=487.720362719632, public_land='YES', objectid=25383, proffer='', shapearea=4227.549121, zonetype='RESIDENTIAL', cluster='', jurisdiction='FAIRFAX COUNTY'),\n",
       " Record(zonecode='R-C', shapelen=4424.69160063799, public_land='YES', objectid=25384, proffer='', shapearea=755284.0129275, zonetype='RESIDENTIAL', cluster='', jurisdiction='FAIRFAX COUNTY'),\n",
       " Record(zonecode='R-C', shapelen=26414.898341962, public_land='YES', objectid=25385, proffer='', shapearea=12445349.6311297, zonetype='RESIDENTIAL', cluster='', jurisdiction='FAIRFAX COUNTY'),\n",
       " Record(zonecode='R-C', shapelen=194.058740871964, public_land='YES', objectid=25386, proffer='', shapearea=763.870997, zonetype='RESIDENTIAL', cluster='', jurisdiction='FAIRFAX COUNTY'),\n",
       " Record(zonecode='R-C', shapelen=3340.51926364751, public_land='YES', objectid=25478, proffer='', shapearea=364123.611412, zonetype='RESIDENTIAL', cluster='', jurisdiction='FAIRFAX COUNTY'),\n",
       " Record(zonecode='R-C', shapelen=3834.66039360404, public_land='YES', objectid=25479, proffer='', shapearea=633563.536234, zonetype='RESIDENTIAL', cluster='', jurisdiction='FAIRFAX COUNTY'),\n",
       " Record(zonecode='R-C', shapelen=4063.14193776459, public_land='YES', objectid=25482, proffer='', shapearea=196063.125196, zonetype='RESIDENTIAL', cluster='', jurisdiction='FAIRFAX COUNTY'),\n",
       " Record(zonecode='R-C', shapelen=2030.97551050306, public_land='YES', objectid=25486, proffer='', shapearea=107959.922803, zonetype='RESIDENTIAL', cluster='', jurisdiction='FAIRFAX COUNTY'),\n",
       " Record(zonecode='R-C', shapelen=3879.10821718944, public_land='YES', objectid=25487, proffer='', shapearea=906864.604033, zonetype='RESIDENTIAL', cluster='', jurisdiction='FAIRFAX COUNTY'),\n",
       " Record(zonecode='R-C', shapelen=9938.94023294896, public_land='YES', objectid=25488, proffer='', shapearea=4067986.619844, zonetype='RESIDENTIAL', cluster='', jurisdiction='FAIRFAX COUNTY'),\n",
       " Record(zonecode='R-C', shapelen=18613.0623759635, public_land='YES', objectid=25492, proffer='', shapearea=19530457.787016, zonetype='RESIDENTIAL', cluster='', jurisdiction='FAIRFAX COUNTY'),\n",
       " Record(zonecode='R-C', shapelen=2980.92727093237, public_land='YES', objectid=25497, proffer='', shapearea=420561.386856, zonetype='RESIDENTIAL', cluster='', jurisdiction='FAIRFAX COUNTY'),\n",
       " Record(zonecode='R-C', shapelen=16259.7681214789, public_land='YES', objectid=25498, proffer='', shapearea=10344762.322207, zonetype='RESIDENTIAL', cluster='', jurisdiction='FAIRFAX COUNTY'),\n",
       " Record(zonecode='R-C', shapelen=4506.69522969943, public_land='YES', objectid=25499, proffer='', shapearea=1102043.26809, zonetype='RESIDENTIAL', cluster='', jurisdiction='FAIRFAX COUNTY'),\n",
       " Record(zonecode='R-C', shapelen=769.733730512977, public_land='YES', objectid=25517, proffer='', shapearea=17448.129765, zonetype='RESIDENTIAL', cluster='', jurisdiction='FAIRFAX COUNTY'),\n",
       " Record(zonecode='R-C', shapelen=1083.97165071152, public_land='YES', objectid=25518, proffer='', shapearea=50498.998704, zonetype='RESIDENTIAL', cluster='', jurisdiction='FAIRFAX COUNTY'),\n",
       " Record(zonecode='R-C', shapelen=2192.65392134024, public_land='YES', objectid=25535, proffer='', shapearea=299266.875131, zonetype='RESIDENTIAL', cluster='', jurisdiction='FAIRFAX COUNTY'),\n",
       " Record(zonecode='R-C', shapelen=7736.89725207747, public_land='YES', objectid=25536, proffer='', shapearea=522476.018457, zonetype='RESIDENTIAL', cluster='', jurisdiction='FAIRFAX COUNTY'),\n",
       " Record(zonecode='R-C', shapelen=4103.54037435079, public_land='YES', objectid=25537, proffer='', shapearea=396277.9188305, zonetype='RESIDENTIAL', cluster='', jurisdiction='FAIRFAX COUNTY'),\n",
       " Record(zonecode='R-C', shapelen=661.221658358805, public_land='YES', objectid=25539, proffer='', shapearea=26537.636992, zonetype='RESIDENTIAL', cluster='', jurisdiction='FAIRFAX COUNTY'),\n",
       " Record(zonecode='R-C', shapelen=693.326546084592, public_land='YES', objectid=25540, proffer='', shapearea=30399.197992, zonetype='RESIDENTIAL', cluster='', jurisdiction='FAIRFAX COUNTY'),\n",
       " Record(zonecode='R-C', shapelen=1555.40047738855, public_land='YES', objectid=25560, proffer='', shapearea=119993.5626825, zonetype='RESIDENTIAL', cluster='', jurisdiction='FAIRFAX COUNTY'),\n",
       " Record(zonecode='R-C', shapelen=9700.56674588908, public_land='YES', objectid=25589, proffer='', shapearea=1691310.369356, zonetype='RESIDENTIAL', cluster='', jurisdiction='FAIRFAX COUNTY'),\n",
       " Record(zonecode='R-C', shapelen=1980.92359933429, public_land='YES', objectid=25590, proffer='', shapearea=215279.3985645, zonetype='RESIDENTIAL', cluster='', jurisdiction='FAIRFAX COUNTY'),\n",
       " Record(zonecode='R-C', shapelen=57350.0803092943, public_land='YES', objectid=25609, proffer='', shapearea=36581356.094128, zonetype='RESIDENTIAL', cluster='', jurisdiction='FAIRFAX COUNTY'),\n",
       " Record(zonecode='R-C', shapelen=8826.19421854154, public_land='YES', objectid=25612, proffer='', shapearea=2690553.98781994, zonetype='RESIDENTIAL', cluster='', jurisdiction='FAIRFAX COUNTY'),\n",
       " Record(zonecode='R-C', shapelen=6896.73102454884, public_land='YES', objectid=25613, proffer='', shapearea=2334790.40576031, zonetype='RESIDENTIAL', cluster='', jurisdiction='FAIRFAX COUNTY'),\n",
       " Record(zonecode='R-C', shapelen=374.387705829446, public_land='YES', objectid=25617, proffer='', shapearea=8753.969832, zonetype='RESIDENTIAL', cluster='', jurisdiction='FAIRFAX COUNTY'),\n",
       " Record(zonecode='R-C', shapelen=607.113877256099, public_land='YES', objectid=25618, proffer='', shapearea=18213.3227565, zonetype='RESIDENTIAL', cluster='', jurisdiction='FAIRFAX COUNTY'),\n",
       " Record(zonecode='R-C', shapelen=35492.7073880854, public_land='YES', objectid=25626, proffer='', shapearea=7557922.895312, zonetype='RESIDENTIAL', cluster='', jurisdiction='FAIRFAX COUNTY'),\n",
       " Record(zonecode='R-C', shapelen=16662.6254263132, public_land='YES', objectid=25631, proffer='', shapearea=2273388.357232, zonetype='RESIDENTIAL', cluster='', jurisdiction='FAIRFAX COUNTY'),\n",
       " Record(zonecode='R-C', shapelen=1120.49305790426, public_land='YES', objectid=25639, proffer='', shapearea=8308.781313, zonetype='RESIDENTIAL', cluster='', jurisdiction='FAIRFAX COUNTY'),\n",
       " Record(zonecode='R-C', shapelen=635.785648612689, public_land='YES', objectid=25648, proffer='', shapearea=12942.900781, zonetype='RESIDENTIAL', cluster='', jurisdiction='FAIRFAX COUNTY'),\n",
       " Record(zonecode='R-C', shapelen=1516.22712939628, public_land='YES', objectid=25649, proffer='', shapearea=19188.23764175, zonetype='RESIDENTIAL', cluster='', jurisdiction='FAIRFAX COUNTY'),\n",
       " Record(zonecode='R-C', shapelen=18434.0938999999, public_land='YES', objectid=25655, proffer='', shapearea=5194900.267898, zonetype='RESIDENTIAL', cluster='', jurisdiction='FAIRFAX COUNTY'),\n",
       " Record(zonecode='R-C', shapelen=146.681085650849, public_land='YES', objectid=25657, proffer='', shapearea=911.3537975, zonetype='RESIDENTIAL', cluster='', jurisdiction='FAIRFAX COUNTY'),\n",
       " Record(zonecode='R-C', shapelen=8729.23018762556, public_land='YES', objectid=27047, proffer='', shapearea=437301.632032, zonetype='RESIDENTIAL', cluster='', jurisdiction='FAIRFAX COUNTY'),\n",
       " Record(zonecode='R-C', shapelen=42815.6997095508, public_land='YES', objectid=27072, proffer='', shapearea=48043142.7991181, zonetype='RESIDENTIAL', cluster='', jurisdiction='FAIRFAX COUNTY'),\n",
       " Record(zonecode='R-C', shapelen=82.7294749188605, public_land='YES', objectid=27119, proffer='', shapearea=82.079075, zonetype='RESIDENTIAL', cluster='', jurisdiction='FAIRFAX COUNTY'),\n",
       " Record(zonecode='R-C', shapelen=28430.6196820932, public_land='YES', objectid=27224, proffer='', shapearea=37211365.4149204, zonetype='RESIDENTIAL', cluster='', jurisdiction='FAIRFAX COUNTY'),\n",
       " Record(zonecode='R-C', shapelen=1551.20442964194, public_land='YES', objectid=27225, proffer='', shapearea=72957.5668055, zonetype='RESIDENTIAL', cluster='', jurisdiction='FAIRFAX COUNTY'),\n",
       " Record(zonecode='R-C', shapelen=3512.36625052297, public_land='YES', objectid=27245, proffer='', shapearea=396158.6074725, zonetype='RESIDENTIAL', cluster='', jurisdiction='FAIRFAX COUNTY'),\n",
       " Record(zonecode='R-C', shapelen=4744.29948144645, public_land='YES', objectid=27273, proffer='', shapearea=1342404.84613916, zonetype='RESIDENTIAL', cluster='', jurisdiction='FAIRFAX COUNTY'),\n",
       " Record(zonecode='R-C', shapelen=18804.7751679305, public_land='YES', objectid=27330, proffer='', shapearea=14484485.922368, zonetype='RESIDENTIAL', cluster='', jurisdiction='FAIRFAX COUNTY'),\n",
       " Record(zonecode='R-C', shapelen=45511.0335402327, public_land='YES', objectid=28705, proffer='', shapearea=25971089.6806509, zonetype='RESIDENTIAL', cluster='', jurisdiction='FAIRFAX COUNTY'),\n",
       " Record(zonecode='R-C', shapelen=1891.44037125361, public_land='NO', objectid=29060, proffer='', shapearea=74817.032839, zonetype='RESIDENTIAL', cluster='', jurisdiction='FAIRFAX COUNTY'),\n",
       " Record(zonecode='R-C', shapelen=567.833511331544, public_land='YES', objectid=29155, proffer='NO', shapearea=7760.694035, zonetype='RESIDENTIAL', cluster='', jurisdiction='FAIRFAX COUNTY'),\n",
       " Record(zonecode='R-C', shapelen=20595.2173976497, public_land='NO', objectid=29190, proffer='', shapearea=10860810.7446136, zonetype='RESIDENTIAL', cluster='', jurisdiction='FAIRFAX COUNTY'),\n",
       " Record(zonecode='R-C', shapelen=3326.4342531289, public_land='NO', objectid=29225, proffer='', shapearea=548969.131732, zonetype='RESIDENTIAL', cluster='', jurisdiction='FAIRFAX COUNTY'),\n",
       " Record(zonecode='R-C', shapelen=681.936442461562, public_land='NO', objectid=29291, proffer='', shapearea=27634.772149, zonetype='RESIDENTIAL', cluster='', jurisdiction='FAIRFAX COUNTY'),\n",
       " Record(zonecode='R-C', shapelen=634.657986336079, public_land='YES', objectid=29312, proffer='', shapearea=23897.589503, zonetype='RESIDENTIAL', cluster='', jurisdiction='FAIRFAX COUNTY'),\n",
       " Record(zonecode='R-C', shapelen=2543.75570919034, public_land='YES', objectid=29315, proffer='', shapearea=154308.411054, zonetype='RESIDENTIAL', cluster='', jurisdiction='FAIRFAX COUNTY'),\n",
       " Record(zonecode='R-C', shapelen=14583.8946094836, public_land='YES', objectid=29325, proffer='', shapearea=4268750.24765431, zonetype='RESIDENTIAL', cluster='', jurisdiction='FAIRFAX COUNTY'),\n",
       " Record(zonecode='R-C', shapelen=42384.0503965526, public_land='NO', objectid=29340, proffer='', shapearea=18192679.679728, zonetype='RESIDENTIAL', cluster='', jurisdiction='FAIRFAX COUNTY'),\n",
       " Record(zonecode='R-C', shapelen=831.84566823695, public_land='YES', objectid=29342, proffer='', shapearea=39327.2331405, zonetype='RESIDENTIAL', cluster='', jurisdiction='FAIRFAX COUNTY'),\n",
       " Record(zonecode='R-C', shapelen=26437.7887991008, public_land='NO', objectid=29367, proffer='', shapearea=14895245.770393, zonetype='RESIDENTIAL', cluster='', jurisdiction='FAIRFAX COUNTY'),\n",
       " Record(zonecode='R-C', shapelen=2905.60880589983, public_land='NO', objectid=29374, proffer='', shapearea=267059.5964625, zonetype='RESIDENTIAL', cluster='', jurisdiction='FAIRFAX COUNTY'),\n",
       " Record(zonecode='R-C', shapelen=4188.82371424124, public_land='NO', objectid=29389, proffer='', shapearea=965959.976965, zonetype='RESIDENTIAL', cluster='', jurisdiction='FAIRFAX COUNTY'),\n",
       " Record(zonecode='R-C', shapelen=1551.78225376499, public_land='YES', objectid=29409, proffer='', shapearea=141615.64672, zonetype='RESIDENTIAL', cluster='', jurisdiction='FAIRFAX COUNTY'),\n",
       " Record(zonecode='R-C', shapelen=34312.5303537687, public_land='NO', objectid=29420, proffer='', shapearea=26444012.815328, zonetype='RESIDENTIAL', cluster='', jurisdiction='FAIRFAX COUNTY'),\n",
       " Record(zonecode='R-C', shapelen=2310.07501310109, public_land='NO', objectid=29426, proffer='', shapearea=19281.9947455, zonetype='RESIDENTIAL', cluster='', jurisdiction='FAIRFAX COUNTY'),\n",
       " Record(zonecode='R-C', shapelen=8282.85823751351, public_land='NO', objectid=29473, proffer='', shapearea=2716138.11595363, zonetype='RESIDENTIAL', cluster='', jurisdiction='FAIRFAX COUNTY'),\n",
       " Record(zonecode='R-C', shapelen=3912.18231007163, public_land='YES', objectid=29483, proffer='', shapearea=197022.002284, zonetype='RESIDENTIAL', cluster='', jurisdiction='FAIRFAX COUNTY'),\n",
       " Record(zonecode='R-C', shapelen=735.583941790657, public_land='YES', objectid=29537, proffer='', shapearea=35957.130648, zonetype='RESIDENTIAL', cluster='', jurisdiction='FAIRFAX COUNTY'),\n",
       " Record(zonecode='R-C', shapelen=20838.1822197441, public_land='NO', objectid=29565, proffer='', shapearea=12734277.846818, zonetype='RESIDENTIAL', cluster='', jurisdiction='FAIRFAX COUNTY'),\n",
       " Record(zonecode='R-C', shapelen=52937.8492208889, public_land='NO', objectid=29572, proffer='', shapearea=48760631.369716, zonetype='RESIDENTIAL', cluster='', jurisdiction='FAIRFAX COUNTY'),\n",
       " Record(zonecode='R-C', shapelen=4677.00647387338, public_land='NO', objectid=29577, proffer='', shapearea=1250206.979006, zonetype='RESIDENTIAL', cluster='', jurisdiction='FAIRFAX COUNTY'),\n",
       " Record(zonecode='R-C', shapelen=2730.12052866115, public_land='YES', objectid=29579, proffer='', shapearea=429004.506124, zonetype='RESIDENTIAL', cluster='', jurisdiction='FAIRFAX COUNTY'),\n",
       " Record(zonecode='R-C', shapelen=555.538659771586, public_land='NO', objectid=29583, proffer='', shapearea=10877.714512, zonetype='RESIDENTIAL', cluster='', jurisdiction='FAIRFAX COUNTY'),\n",
       " Record(zonecode='R-C', shapelen=7628.28444980935, public_land='YES', objectid=29606, proffer='', shapearea=923088.677537, zonetype='RESIDENTIAL', cluster='', jurisdiction='FAIRFAX COUNTY'),\n",
       " Record(zonecode='R-C', shapelen=869.530219590075, public_land='YES', objectid=29608, proffer='', shapearea=44860.55075, zonetype='RESIDENTIAL', cluster='', jurisdiction='FAIRFAX COUNTY'),\n",
       " Record(zonecode='R-C', shapelen=28948.3007606234, public_land='NO', objectid=29619, proffer='', shapearea=8712372.38512719, zonetype='RESIDENTIAL', cluster='', jurisdiction='FAIRFAX COUNTY'),\n",
       " Record(zonecode='R-C', shapelen=24803.087023879, public_land='YES', objectid=29623, proffer='', shapearea=10704222.648202, zonetype='RESIDENTIAL', cluster='', jurisdiction='FAIRFAX COUNTY'),\n",
       " Record(zonecode='R-C', shapelen=63902.2537761871, public_land='NO', objectid=29635, proffer='', shapearea=129907669.582946, zonetype='RESIDENTIAL', cluster='', jurisdiction='FAIRFAX COUNTY'),\n",
       " Record(zonecode='R-C', shapelen=4167.65910949418, public_land='YES', objectid=29636, proffer='', shapearea=541175.73016, zonetype='RESIDENTIAL', cluster='', jurisdiction='FAIRFAX COUNTY'),\n",
       " Record(zonecode='R-C', shapelen=7116.41217535716, public_land='NO', objectid=29659, proffer='', shapearea=738424.6197235, zonetype='RESIDENTIAL', cluster='', jurisdiction='FAIRFAX COUNTY'),\n",
       " Record(zonecode='R-C', shapelen=3458.46919448096, public_land='YES', objectid=29700, proffer='', shapearea=111767.948152, zonetype='RESIDENTIAL', cluster='', jurisdiction='FAIRFAX COUNTY'),\n",
       " Record(zonecode='R-C', shapelen=1116.618150479, public_land='YES', objectid=29707, proffer='', shapearea=79913.720478, zonetype='RESIDENTIAL', cluster='', jurisdiction='FAIRFAX COUNTY'),\n",
       " Record(zonecode='R-C', shapelen=2706.87702336689, public_land='YES', objectid=29715, proffer='', shapearea=238084.807344, zonetype='RESIDENTIAL', cluster='', jurisdiction='FAIRFAX COUNTY'),\n",
       " Record(zonecode='R-C', shapelen=833.027550087049, public_land='NO', objectid=29744, proffer='', shapearea=40461.388032, zonetype='RESIDENTIAL', cluster='', jurisdiction='FAIRFAX COUNTY'),\n",
       " Record(zonecode='R-C', shapelen=30799.5832617752, public_land='YES', objectid=29835, proffer='NO', shapearea=4809508.49953541, zonetype='RESIDENTIAL', cluster='', jurisdiction='FAIRFAX COUNTY'),\n",
       " Record(zonecode='R-C', shapelen=10065.8061030623, public_land='NO', objectid=29838, proffer='', shapearea=2823434.312038, zonetype='RESIDENTIAL', cluster='', jurisdiction='FAIRFAX COUNTY'),\n",
       " Record(zonecode='R-C', shapelen=33919.7962869307, public_land='NO', objectid=29937, proffer='', shapearea=37997264.4246991, zonetype='RESIDENTIAL', cluster='', jurisdiction='FAIRFAX COUNTY'),\n",
       " Record(zonecode='R-C', shapelen=61700.543760822, public_land='YES', objectid=29966, proffer='', shapearea=25266093.3471896, zonetype='RESIDENTIAL', cluster='', jurisdiction='FAIRFAX COUNTY'),\n",
       " Record(zonecode='R-C', shapelen=469.227255834422, public_land='YES', objectid=29972, proffer='', shapearea=8235.85962, zonetype='RESIDENTIAL', cluster='', jurisdiction='FAIRFAX COUNTY'),\n",
       " Record(zonecode='R-C', shapelen=2884.31486075294, public_land='YES', objectid=30001, proffer='', shapearea=482390.271246938, zonetype='RESIDENTIAL', cluster='', jurisdiction='FAIRFAX COUNTY'),\n",
       " Record(zonecode='R-C', shapelen=30765.2324064329, public_land='NO', objectid=30004, proffer='', shapearea=10490740.1085655, zonetype='RESIDENTIAL', cluster='', jurisdiction='FAIRFAX COUNTY'),\n",
       " Record(zonecode='R-C', shapelen=9850.45150343399, public_land='NO', objectid=30010, proffer='', shapearea=3414714.956536, zonetype='RESIDENTIAL', cluster='', jurisdiction='FAIRFAX COUNTY'),\n",
       " Record(zonecode='R-C', shapelen=7581.28144875759, public_land='YES', objectid=30022, proffer='', shapearea=940558.900116, zonetype='RESIDENTIAL', cluster='', jurisdiction='FAIRFAX COUNTY'),\n",
       " Record(zonecode='R-C', shapelen=23704.0597764481, public_land='NO', objectid=30028, proffer='', shapearea=10549668.952848, zonetype='RESIDENTIAL', cluster='', jurisdiction='FAIRFAX COUNTY'),\n",
       " Record(zonecode='R-C', shapelen=4069.39574429192, public_land='YES', objectid=30042, proffer='', shapearea=170775.8970705, zonetype='RESIDENTIAL', cluster='', jurisdiction='FAIRFAX COUNTY'),\n",
       " Record(zonecode='R-C', shapelen=60753.2945193605, public_land='YES', objectid=30080, proffer='', shapearea=59078376.244624, zonetype='RESIDENTIAL', cluster='', jurisdiction='FAIRFAX COUNTY'),\n",
       " Record(zonecode='R-C', shapelen=7207.13311088012, public_land='YES', objectid=30138, proffer='', shapearea=2508593.769794, zonetype='RESIDENTIAL', cluster='', jurisdiction='FAIRFAX COUNTY'),\n",
       " Record(zonecode='R-C', shapelen=344.440792028288, public_land='NO', objectid=30151, proffer='', shapearea=7033.162282, zonetype='RESIDENTIAL', cluster='', jurisdiction='FAIRFAX COUNTY'),\n",
       " Record(zonecode='R-C', shapelen=9043.65320756276, public_land='YES', objectid=30170, proffer='', shapearea=3985387.21423066, zonetype='RESIDENTIAL', cluster='', jurisdiction='FAIRFAX COUNTY'),\n",
       " Record(zonecode='R-C', shapelen=40678.596864929, public_land='NO', objectid=30180, proffer='', shapearea=14911785.019523, zonetype='RESIDENTIAL', cluster='', jurisdiction='FAIRFAX COUNTY'),\n",
       " Record(zonecode='R-C', shapelen=6899.47119088495, public_land='NO', objectid=30208, proffer='', shapearea=2709141.385832, zonetype='RESIDENTIAL', cluster='', jurisdiction='FAIRFAX COUNTY'),\n",
       " Record(zonecode='R-C', shapelen=624.180124754971, public_land='YES', objectid=30243, proffer='', shapearea=20942.6265130312, zonetype='RESIDENTIAL', cluster='', jurisdiction='FAIRFAX COUNTY'),\n",
       " Record(zonecode='R-C', shapelen=6990.9921023363, public_land='YES', objectid=30244, proffer='', shapearea=513201.228064, zonetype='RESIDENTIAL', cluster='', jurisdiction='FAIRFAX COUNTY'),\n",
       " Record(zonecode='R-C', shapelen=1423.84009917682, public_land='YES', objectid=30264, proffer='', shapearea=110093.715465, zonetype='RESIDENTIAL', cluster='', jurisdiction='FAIRFAX COUNTY'),\n",
       " Record(zonecode='R-C', shapelen=555.901087241458, public_land='YES', objectid=30281, proffer='', shapearea=9938.384281, zonetype='RESIDENTIAL', cluster='', jurisdiction='FAIRFAX COUNTY'),\n",
       " Record(zonecode='R-C', shapelen=3067.94988043642, public_land='YES', objectid=30300, proffer='', shapearea=578058.014352, zonetype='RESIDENTIAL', cluster='', jurisdiction='FAIRFAX COUNTY'),\n",
       " Record(zonecode='R-C', shapelen=30969.2596272132, public_land='NO', objectid=30303, proffer='', shapearea=27169208.950952, zonetype='RESIDENTIAL', cluster='', jurisdiction='FAIRFAX COUNTY'),\n",
       " Record(zonecode='R-C', shapelen=9715.06470180629, public_land='NO', objectid=30306, proffer='', shapearea=3361627.301724, zonetype='RESIDENTIAL', cluster='', jurisdiction='FAIRFAX COUNTY'),\n",
       " Record(zonecode='R-C', shapelen=10877.7837232718, public_land='NO', objectid=30322, proffer='', shapearea=6879153.25299684, zonetype='RESIDENTIAL', cluster='', jurisdiction='FAIRFAX COUNTY'),\n",
       " Record(zonecode='R-C', shapelen=15988.1750720076, public_land='NO', objectid=30336, proffer='', shapearea=4595327.995662, zonetype='RESIDENTIAL', cluster='', jurisdiction='FAIRFAX COUNTY'),\n",
       " Record(zonecode='R-C', shapelen=62322.1741425557, public_land='NO', objectid=30371, proffer='', shapearea=43687985.8784518, zonetype='RESIDENTIAL', cluster='', jurisdiction='FAIRFAX COUNTY'),\n",
       " Record(zonecode='R-C', shapelen=5074.56125958433, public_land='NO', objectid=30372, proffer='', shapearea=220041.10502, zonetype='RESIDENTIAL', cluster='', jurisdiction='FAIRFAX COUNTY'),\n",
       " Record(zonecode='R-C', shapelen=4558.66996631183, public_land='YES', objectid=30397, proffer='', shapearea=819970.070908469, zonetype='RESIDENTIAL', cluster='', jurisdiction='FAIRFAX COUNTY'),\n",
       " Record(zonecode='R-C', shapelen=4682.62138466252, public_land='YES', objectid=30410, proffer='', shapearea=262872.35, zonetype='RESIDENTIAL', cluster='', jurisdiction='FAIRFAX COUNTY'),\n",
       " Record(zonecode='R-C', shapelen=4646.13831871755, public_land='YES', objectid=30413, proffer='NO', shapearea=555784.06102, zonetype='RESIDENTIAL', cluster='', jurisdiction='FAIRFAX COUNTY'),\n",
       " Record(zonecode='R-C', shapelen=864.045543086866, public_land='NO', objectid=30419, proffer='', shapearea=35775.306632, zonetype='RESIDENTIAL', cluster='', jurisdiction='FAIRFAX COUNTY'),\n",
       " Record(zonecode='R-C', shapelen=4463.78665617614, public_land='YES', objectid=30452, proffer='', shapearea=733357.949076, zonetype='RESIDENTIAL', cluster='', jurisdiction='FAIRFAX COUNTY'),\n",
       " Record(zonecode='R-C', shapelen=1539.79442394812, public_land='YES', objectid=30470, proffer='', shapearea=59696.5204585, zonetype='RESIDENTIAL', cluster='', jurisdiction='FAIRFAX COUNTY'),\n",
       " Record(zonecode='R-C', shapelen=16069.743735026, public_land='NO', objectid=30485, proffer='', shapearea=10657701.8973705, zonetype='RESIDENTIAL', cluster='', jurisdiction='FAIRFAX COUNTY'),\n",
       " Record(zonecode='R-C', shapelen=6093.91688917624, public_land='YES', objectid=30491, proffer='', shapearea=664002.520378, zonetype='RESIDENTIAL', cluster='', jurisdiction='FAIRFAX COUNTY'),\n",
       " Record(zonecode='R-C', shapelen=7051.30266192159, public_land='YES', objectid=30492, proffer='', shapearea=485211.675833063, zonetype='RESIDENTIAL', cluster='', jurisdiction='FAIRFAX COUNTY'),\n",
       " Record(zonecode='R-C', shapelen=5170.59311600552, public_land='NO', objectid=30530, proffer='', shapearea=1007404.4729265, zonetype='RESIDENTIAL', cluster='', jurisdiction='FAIRFAX COUNTY'),\n",
       " Record(zonecode='R-C', shapelen=65591.0858279298, public_land='NO', objectid=30562, proffer='', shapearea=112025353.320938, zonetype='RESIDENTIAL', cluster='', jurisdiction='FAIRFAX COUNTY'),\n",
       " Record(zonecode='R-C', shapelen=4366.42847075029, public_land='NO', objectid=30595, proffer='', shapearea=915590.304747, zonetype='RESIDENTIAL', cluster='', jurisdiction='FAIRFAX COUNTY'),\n",
       " Record(zonecode='R-C', shapelen=22102.8485283229, public_land='YES', objectid=30631, proffer='', shapearea=4271801.7490195, zonetype='RESIDENTIAL', cluster='', jurisdiction='FAIRFAX COUNTY'),\n",
       " Record(zonecode='R-C', shapelen=1691.89180774938, public_land='YES', objectid=30648, proffer='', shapearea=86466.242584, zonetype='RESIDENTIAL', cluster='', jurisdiction='FAIRFAX COUNTY'),\n",
       " Record(zonecode='R-C', shapelen=15279.4199830754, public_land='YES', objectid=30651, proffer='', shapearea=4942740.303528, zonetype='RESIDENTIAL', cluster='', jurisdiction='FAIRFAX COUNTY'),\n",
       " Record(zonecode='R-C', shapelen=28641.5082309085, public_land='YES', objectid=31211, proffer='', shapearea=28985973.381272, zonetype='RESIDENTIAL', cluster='', jurisdiction='FAIRFAX COUNTY'),\n",
       " Record(zonecode='R-C', shapelen=147.687371539232, public_land='YES', objectid=33410, proffer='', shapearea=344.6529, zonetype='RESIDENTIAL', cluster='', jurisdiction='FAIRFAX COUNTY'),\n",
       " Record(zonecode='R-C', shapelen=61508.4622853509, public_land='YES', objectid=33718, proffer='NO', shapearea=88198476.61554, zonetype='RESIDENTIAL', cluster='', jurisdiction='FAIRFAX COUNTY'),\n",
       " Record(zonecode='R-C', shapelen=109.810271152489, public_land='YES', objectid=33720, proffer='', shapearea=503.027352, zonetype='RESIDENTIAL', cluster='', jurisdiction='FAIRFAX COUNTY'),\n",
       " Record(zonecode='R-C', shapelen=1251.56513847887, public_land='YES', objectid=33729, proffer='', shapearea=53864.1995545, zonetype='RESIDENTIAL', cluster='', jurisdiction='FAIRFAX COUNTY'),\n",
       " Record(zonecode='R-C', shapelen=22200.567741199, public_land='YES', objectid=33733, proffer='', shapearea=11694414.0832441, zonetype='RESIDENTIAL', cluster='', jurisdiction='FAIRFAX COUNTY'),\n",
       " Record(zonecode='R-C', shapelen=94860.2070202976, public_land='YES', objectid=33735, proffer='', shapearea=130270541.169266, zonetype='RESIDENTIAL', cluster='', jurisdiction='FAIRFAX COUNTY'),\n",
       " Record(zonecode='R-C', shapelen=8206.34494487297, public_land='YES', objectid=33739, proffer='', shapearea=872793.402418781, zonetype='RESIDENTIAL', cluster='', jurisdiction='FAIRFAX COUNTY'),\n",
       " Record(zonecode='R-C', shapelen=8182.08746965671, public_land='YES', objectid=33742, proffer='', shapearea=1725253.940542, zonetype='RESIDENTIAL', cluster='', jurisdiction='FAIRFAX COUNTY'),\n",
       " Record(zonecode='R-C', shapelen=564.726863472592, public_land='YES', objectid=33743, proffer='', shapearea=1038.7389455, zonetype='RESIDENTIAL', cluster='', jurisdiction='FAIRFAX COUNTY'),\n",
       " Record(zonecode='R-C', shapelen=2780.01962100305, public_land='YES', objectid=33745, proffer='', shapearea=165213.3577085, zonetype='RESIDENTIAL', cluster='', jurisdiction='FAIRFAX COUNTY'),\n",
       " Record(zonecode='R-C', shapelen=13472.1214279557, public_land='YES', objectid=33746, proffer='', shapearea=1689843.8875735, zonetype='RESIDENTIAL', cluster='', jurisdiction='FAIRFAX COUNTY'),\n",
       " Record(zonecode='R-C', shapelen=2366.73584599032, public_land='YES', objectid=37237, proffer='NO', shapearea=280725.433235, zonetype='RESIDENTIAL', cluster='', jurisdiction='FAIRFAX COUNTY'),\n",
       " Record(zonecode='R-C', shapelen=7767.65743287557, public_land='YES', objectid=37241, proffer='NO', shapearea=2267073.633056, zonetype='RESIDENTIAL', cluster='', jurisdiction='FAIRFAX COUNTY'),\n",
       " Record(zonecode='R-C', shapelen=46836.2140820839, public_land='NO', objectid=37242, proffer='NO', shapearea=43752650.9171043, zonetype='RESIDENTIAL', cluster='', jurisdiction='FAIRFAX COUNTY'),\n",
       " Record(zonecode='R-C', shapelen=8250.65706598866, public_land='NO', objectid=39490, proffer='NO', shapearea=2325325.708098, zonetype='RESIDENTIAL', cluster='', jurisdiction='FAIRFAX COUNTY'),\n",
       " Record(zonecode='R-C', shapelen=40112.6172001648, public_land='YES', objectid=41396, proffer='', shapearea=41485423.0711905, zonetype='RESIDENTIAL', cluster='', jurisdiction='FAIRFAX COUNTY'),\n",
       " Record(zonecode='R-C', shapelen=3757.91490869907, public_land='YES', objectid=42367, proffer='NO', shapearea=861255.05417, zonetype='RESIDENTIAL', cluster='', jurisdiction='FAIRFAX COUNTY'),\n",
       " Record(zonecode='R-C', shapelen=83422.5924354407, public_land='NO', objectid=42412, proffer='NO', shapearea=51669176.2737874, zonetype='RESIDENTIAL', cluster='', jurisdiction='FAIRFAX COUNTY'),\n",
       " Record(zonecode='R-C', shapelen=8962.33068204801, public_land='YES', objectid=44917, proffer='', shapearea=2289437.3486345, zonetype='RESIDENTIAL', cluster='', jurisdiction='FAIRFAX COUNTY'),\n",
       " Record(zonecode='R-C', shapelen=62350.1658540373, public_land='NO', objectid=47167, proffer='', shapearea=59855119.828494, zonetype='RESIDENTIAL', cluster='', jurisdiction='FAIRFAX COUNTY'),\n",
       " Record(zonecode='R-C', shapelen=6847.70963424672, public_land='YES', objectid=47168, proffer='', shapearea=1790451.522312, zonetype='RESIDENTIAL', cluster='', jurisdiction='FAIRFAX COUNTY'),\n",
       " Record(zonecode='R-C', shapelen=119120.840614294, public_land='NO', objectid=47481, proffer='', shapearea=134986339.185122, zonetype='RESIDENTIAL', cluster='', jurisdiction='FAIRFAX COUNTY'),\n",
       " Record(zonecode='R-C', shapelen=33471.8600530166, public_land='YES', objectid=47802, proffer='', shapearea=12832727.884344, zonetype='RESIDENTIAL', cluster='', jurisdiction='FAIRFAX COUNTY'),\n",
       " Record(zonecode='R-C', shapelen=2694.56175466525, public_land='YES', objectid=55164, proffer='', shapearea=386492.062152, zonetype='RESIDENTIAL', cluster='', jurisdiction='FAIRFAX COUNTY'),\n",
       " Record(zonecode='R-C', shapelen=4232.20067042075, public_land='NO', objectid=64459, proffer='', shapearea=746940.060748, zonetype='RESIDENTIAL', cluster='', jurisdiction='FAIRFAX COUNTY'),\n",
       " Record(zonecode='R-C', shapelen=8396.24529872353, public_land='YES', objectid=64764, proffer='', shapearea=3667823.5558, zonetype='RESIDENTIAL', cluster='', jurisdiction='FAIRFAX COUNTY'),\n",
       " Record(zonecode='R-C', shapelen=1505.73018581466, public_land='YES', objectid=67324, proffer='', shapearea=46499.919156, zonetype='RESIDENTIAL', cluster='', jurisdiction='FAIRFAX COUNTY'),\n",
       " Record(zonecode='R-C', shapelen=49195.7534038559, public_land='YES', objectid=69913, proffer='NO', shapearea=37517752.3259272, zonetype='RESIDENTIAL', cluster='', jurisdiction='FAIRFAX COUNTY'),\n",
       " Record(zonecode='R-C', shapelen=12422.7278520169, public_land='YES', objectid=69920, proffer='NO', shapearea=8763938.05968, zonetype='RESIDENTIAL', cluster='', jurisdiction='FAIRFAX COUNTY'),\n",
       " Record(zonecode='R-C', shapelen=6436.90257793628, public_land='YES', objectid=69924, proffer='NO', shapearea=2471289.199232, zonetype='RESIDENTIAL', cluster='', jurisdiction='FAIRFAX COUNTY'),\n",
       " Record(zonecode='R-C', shapelen=2697.44386111137, public_land='YES', objectid=69927, proffer='NO', shapearea=345488.231203, zonetype='RESIDENTIAL', cluster='', jurisdiction='FAIRFAX COUNTY'),\n",
       " Record(zonecode='R-C', shapelen=1979.10587912169, public_land='YES', objectid=69958, proffer='', shapearea=101349.895706, zonetype='RESIDENTIAL', cluster='', jurisdiction='FAIRFAX COUNTY'),\n",
       " Record(zonecode='R-C', shapelen=6938.66422943799, public_land='YES', objectid=79164, proffer='', shapearea=1484673.77914, zonetype='RESIDENTIAL', cluster='', jurisdiction='FAIRFAX COUNTY'),\n",
       " Record(zonecode='R-C', shapelen=20730.9658745553, public_land='YES', objectid=83644, proffer='NO', shapearea=13658453.2553029, zonetype='RESIDENTIAL', cluster='', jurisdiction='FAIRFAX COUNTY'),\n",
       " Record(zonecode='R-C', shapelen=17250.8438707335, public_land='YES', objectid=83647, proffer='NO', shapearea=6110125.39480419, zonetype='RESIDENTIAL', cluster='', jurisdiction='FAIRFAX COUNTY'),\n",
       " Record(zonecode='R-C', shapelen=5486.93042252105, public_land='YES', objectid=92936, proffer='', shapearea=1765222.249154, zonetype='RESIDENTIAL', cluster='', jurisdiction='FAIRFAX COUNTY'),\n",
       " Record(zonecode='R-C', shapelen=12654.2959601808, public_land='YES', objectid=93247, proffer='', shapearea=2409920.9072385, zonetype='RESIDENTIAL', cluster='', jurisdiction='FAIRFAX COUNTY'),\n",
       " Record(zonecode='R-C', shapelen=14091.0764699214, public_land='NO', objectid=93252, proffer='', shapearea=5514885.68845975, zonetype='RESIDENTIAL', cluster='', jurisdiction='FAIRFAX COUNTY'),\n",
       " Record(zonecode='R-C', shapelen=3086.64335499758, public_land='NO', objectid=93254, proffer='', shapearea=348351.245332, zonetype='RESIDENTIAL', cluster='', jurisdiction='FAIRFAX COUNTY'),\n",
       " Record(zonecode='R-C', shapelen=1880.15407653542, public_land='YES', objectid=99019, proffer='', shapearea=146506.632699, zonetype='RESIDENTIAL', cluster='', jurisdiction='FAIRFAX COUNTY'),\n",
       " Record(zonecode='R-C', shapelen=13024.2981128972, public_land='NO', objectid=104134, proffer='NO', shapearea=4744421.01635397, zonetype='RESIDENTIAL', cluster='', jurisdiction='FAIRFAX COUNTY'),\n",
       " Record(zonecode='R-C', shapelen=5887.37153781921, public_land='NO', objectid=104135, proffer='NO', shapearea=1952076.06163006, zonetype='RESIDENTIAL', cluster='', jurisdiction='FAIRFAX COUNTY'),\n",
       " Record(zonecode='R-C', shapelen=3058.30766943022, public_land='NO', objectid=104136, proffer='NO', shapearea=380507.931804, zonetype='RESIDENTIAL', cluster='', jurisdiction='FAIRFAX COUNTY'),\n",
       " Record(zonecode='R-C', shapelen=736.416494836827, public_land='NO', objectid=104137, proffer='NO', shapearea=32895.955784, zonetype='RESIDENTIAL', cluster='', jurisdiction='FAIRFAX COUNTY'),\n",
       " Record(zonecode='R-C', shapelen=5094.41382160329, public_land='YES', objectid=107336, proffer='NO', shapearea=1080214.019764, zonetype='RESIDENTIAL', cluster='', jurisdiction='FAIRFAX COUNTY'),\n",
       " Record(zonecode='R-C', shapelen=13746.7133305883, public_land='YES', objectid=135500, proffer='NO', shapearea=6397996.60090038, zonetype='RESIDENTIAL', cluster='', jurisdiction='FAIRFAX COUNTY'),\n",
       " Record(zonecode='R-C', shapelen=5065.93064357399, public_land='NO', objectid=161422, proffer='NO', shapearea=560036.778106031, zonetype='RESIDENTIAL', cluster='', jurisdiction='FAIRFAX COUNTY'),\n",
       " Record(zonecode='R-C', shapelen=10806.5869370507, public_land='YES', objectid=171660, proffer='', shapearea=2516813.220517, zonetype='RESIDENTIAL', cluster='', jurisdiction='FAIRFAX COUNTY')]"
      ]
     },
     "execution_count": 137,
     "metadata": {},
     "output_type": "execute_result"
    }
   ],
   "source": [
    "[record for record in data if record.zonecode == 'R-C']"
   ]
  },
  {
   "cell_type": "code",
   "execution_count": null,
   "metadata": {},
   "outputs": [],
   "source": []
  }
 ],
 "metadata": {
  "kernelspec": {
   "display_name": "Python 3",
   "language": "python",
   "name": "python3"
  },
  "language_info": {
   "codemirror_mode": {
    "name": "ipython",
    "version": 3
   },
   "file_extension": ".py",
   "mimetype": "text/x-python",
   "name": "python",
   "nbconvert_exporter": "python",
   "pygments_lexer": "ipython3",
   "version": "3.5.6"
  }
 },
 "nbformat": 4,
 "nbformat_minor": 2
}
