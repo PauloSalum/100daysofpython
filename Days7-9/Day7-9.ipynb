{
 "cells": [
  {
   "cell_type": "code",
   "execution_count": 1,
   "metadata": {},
   "outputs": [
    {
     "name": "stdout",
     "output_type": "stream",
     "text": [
      "pygame 1.9.4\n",
      "Hello from the pygame community. https://www.pygame.org/contribute.html\n"
     ]
    }
   ],
   "source": [
    "import sys, os\n",
    "import time, random \n",
    "import wave, argparse, pygame \n",
    "import numpy as np\n",
    "from collections import deque\n",
    "from matplotlib import pyplot as plt"
   ]
  },
  {
   "cell_type": "code",
   "execution_count": 92,
   "metadata": {},
   "outputs": [],
   "source": [
    "# show plot of algorithm in action?\n",
    "gShowPlot = False\n",
    "\n",
    "scale = {\n",
    "    'C4': 261.63,\n",
    "    'Db4': 277.18,\n",
    "    'D4': 293.66,\n",
    "    'Eb4': 311.13,\n",
    "    'E4': 329.63,\n",
    "    'F4': 349.23,\n",
    "    'Gb4': 369.99,\n",
    "    'G4': 392.00,\n",
    "    'Ab4': 415.30,\n",
    "    'A4': 440.00,\n",
    "    'Bb4': 466.16,\n",
    "    'B4': 493.88,\n",
    "    'C5': 523.25\n",
    "}"
   ]
  },
  {
   "cell_type": "code",
   "execution_count": 84,
   "metadata": {},
   "outputs": [],
   "source": [
    "def writeWAVE(fname, data):\n",
    "    # open file \n",
    "    file = wave.open(fname, 'wb')\n",
    "    # WAV file parameters \n",
    "    nChannels = 1\n",
    "    sampleWidth = 2\n",
    "    frameRate = 44100\n",
    "    nFrames = 44100\n",
    "    # set parameters\n",
    "    file.setparams((nChannels, sampleWidth, frameRate, nFrames,\n",
    "                    'NONE', 'noncompressed'))\n",
    "    file.writeframes(data)\n",
    "    file.close()"
   ]
  },
  {
   "cell_type": "code",
   "execution_count": 85,
   "metadata": {},
   "outputs": [],
   "source": [
    "def generateNote(freq):\n",
    "    nSamples = 44100\n",
    "    sampleRate = 44100\n",
    "    N = int(sampleRate/freq)\n",
    "    # initialize ring buffer\n",
    "    buf = deque([random.random() - 0.5 for i in range(N)])\n",
    "    # plot of flag set \n",
    "    if gShowPlot:\n",
    "        axline, = plt.plot(buf)\n",
    "    # init sample buffer\n",
    "    samples = np.array([0]*nSamples, 'float32')\n",
    "    for i in range(nSamples):\n",
    "        samples[i] = buf[0]\n",
    "        avg = 0.995*0.5*(buf[0] + buf[1])\n",
    "        buf.append(avg)\n",
    "        buf.popleft()  \n",
    "        # plot of flag set \n",
    "        if gShowPlot:\n",
    "            if i % 1000 == 0:\n",
    "                axline.set_ydata(buf)\n",
    "                plt.draw()\n",
    "      \n",
    "    # samples to 16-bit to string\n",
    "    # max value is 32767 for 16-bit\n",
    "    samples = np.array(samples * 32767, 'int16')\n",
    "    return samples.tostring()"
   ]
  },
  {
   "cell_type": "code",
   "execution_count": 86,
   "metadata": {},
   "outputs": [],
   "source": [
    "class NotePlayer:\n",
    "    # constr\n",
    "    def __init__(self):\n",
    "        pygame.mixer.init(44100, -16, 0, 2048)\n",
    "        pygame.init()\n",
    "        # dictionary of notes\n",
    "        self.notes = {}\n",
    "        \n",
    "    # add a note\n",
    "    def add(self, fileName):\n",
    "        self.notes[fileName] = pygame.mixer.Sound(fileName)\n",
    "        \n",
    "    # play a note\n",
    "    def play(self, fileName):\n",
    "        try:\n",
    "            self.notes[fileName].play()\n",
    "        except:\n",
    "            print(fileName + ' not found!')\n",
    "            \n",
    "    def playRandom(self):\n",
    "        \"\"\"play a random note\"\"\"\n",
    "        index = random.randint(0, len(self.notes)-1)\n",
    "        note = list(self.notes.values())[index]\n",
    "        note.play()"
   ]
  },
  {
   "cell_type": "code",
   "execution_count": 87,
   "metadata": {},
   "outputs": [
    {
     "name": "stdout",
     "output_type": "stream",
     "text": [
      "creating notes...\n",
      "fileName already created. skipping...\n",
      "fileName already created. skipping...\n",
      "fileName already created. skipping...\n",
      "fileName already created. skipping...\n",
      "fileName already created. skipping...\n",
      "fileName already created. skipping...\n",
      "fileName already created. skipping...\n",
      "fileName already created. skipping...\n",
      "fileName already created. skipping...\n",
      "fileName already created. skipping...\n",
      "fileName already created. skipping...\n",
      "fileName already created. skipping...\n",
      "fileName already created. skipping...\n"
     ]
    }
   ],
   "source": [
    "nplayer = NotePlayer()\n",
    "\n",
    "print('creating notes...')\n",
    "for name, freq in list(scale.items()):\n",
    "    fileName = name + '.wav' \n",
    "    if not os.path.exists(fileName):\n",
    "        data = generateNote(freq) \n",
    "        print('creating ' + fileName + '...')\n",
    "        writeWAVE(fileName, data) \n",
    "    else:\n",
    "        print('fileName already created. skipping...')\n",
    "\n",
    "    # add note to player\n",
    "    nplayer.add(name + '.wav')"
   ]
  },
  {
   "cell_type": "code",
   "execution_count": 88,
   "metadata": {},
   "outputs": [],
   "source": [
    "mary = ['E4', 'D4', 'C4', 'D4', 'E4', 'E4', 'E4', None,\n",
    "        'D4', 'D4', 'D4', None, 'E4', 'G4', 'G4', None,\n",
    "        'E4', 'D4', 'C4', 'D4', 'E4', 'E4', 'E4', 'E4', \n",
    "        'D4', 'D4', 'E4', 'D4', 'C4']"
   ]
  },
  {
   "cell_type": "code",
   "execution_count": 89,
   "metadata": {},
   "outputs": [],
   "source": [
    "for note in mary:\n",
    "    if note is not None:\n",
    "        nplayer.play(note + '.wav')\n",
    "    time.sleep(0.3)"
   ]
  },
  {
   "cell_type": "code",
   "execution_count": 90,
   "metadata": {},
   "outputs": [],
   "source": [
    "ch1 = ('F4', 'G4')\n",
    "ch2 = ('E4', 'G4')\n",
    "ch3 = ('D4', 'B4')\n",
    "ch4 = ('D4', 'A4')\n",
    "ch5 = ('C4', 'C5')\n",
    "ch6 = ('E4', 'A4')\n",
    "chopsticks = [ch1, ch1, ch1, ch1, ch1, ch1,\n",
    "              ch2, ch2, ch2, ch2, ch2, ch2,\n",
    "              ch3, ch3, ch3, ch3, ch4, ch3,\n",
    "              ch5, None, ch5, ch5, ch3, ch6,\n",
    "              ch1, ch1, ch1, ch1, ch1, ch1,\n",
    "              ch2, ch2, ch2, ch2, ch2, ch2,\n",
    "              ch3, ch3, ch3, ch3, ch4, ch3,\n",
    "              ch5, None, ch5, ch5]\n",
    "\n",
    "for tup in chopsticks:\n",
    "    if tup is not None:\n",
    "        for note in tup:\n",
    "            nplayer.play(note + '.wav')\n",
    "    time.sleep(0.3)"
   ]
  },
  {
   "cell_type": "code",
   "execution_count": 91,
   "metadata": {},
   "outputs": [],
   "source": [
    "d_13 = ['C4', 'E4', 'Gb4', 'B4']\n",
    "for note in d_13:\n",
    "    nplayer.play(note + '.wav')"
   ]
  },
  {
   "cell_type": "code",
   "execution_count": null,
   "metadata": {},
   "outputs": [],
   "source": []
  },
  {
   "cell_type": "code",
   "execution_count": null,
   "metadata": {},
   "outputs": [],
   "source": []
  }
 ],
 "metadata": {
  "kernelspec": {
   "display_name": "Python 3",
   "language": "python",
   "name": "python3"
  },
  "language_info": {
   "codemirror_mode": {
    "name": "ipython",
    "version": 3
   },
   "file_extension": ".py",
   "mimetype": "text/x-python",
   "name": "python",
   "nbconvert_exporter": "python",
   "pygments_lexer": "ipython3",
   "version": "3.6.5"
  }
 },
 "nbformat": 4,
 "nbformat_minor": 2
}
