{
 "cells": [
  {
   "cell_type": "code",
   "execution_count": 1,
   "metadata": {},
   "outputs": [],
   "source": [
    "import csv\n",
    "from collections import defaultdict, namedtuple, Counter, deque\n",
    "from operator import itemgetter"
   ]
  },
  {
   "cell_type": "code",
   "execution_count": 2,
   "metadata": {},
   "outputs": [],
   "source": [
    "MOVIE_DATA = 'movie_metadata.csv'\n",
    "NUM_TOP_DIRECTORS = 20\n",
    "MIN_MOVIES = 4\n",
    "MIN_YEAR = 1960"
   ]
  },
  {
   "cell_type": "code",
   "execution_count": 3,
   "metadata": {},
   "outputs": [],
   "source": [
    "Movie = namedtuple('Movie', 'title year score')"
   ]
  },
  {
   "cell_type": "code",
   "execution_count": 4,
   "metadata": {},
   "outputs": [],
   "source": [
    "def get_movies_by_director():\n",
    "    movies_by_director = defaultdict(list)\n",
    "\n",
    "    with open(MOVIE_DATA, encoding='UTF-8') as fin:\n",
    "        reader = csv.DictReader(fin)\n",
    "        for movie in reader:\n",
    "            movies_by_director[movie['director_name']].append(\n",
    "                Movie(movie['movie_title'].replace('\\xa0', '').strip(), movie['title_year'], movie['imdb_score']))\n",
    "        return movies_by_director"
   ]
  },
  {
   "cell_type": "code",
   "execution_count": 5,
   "metadata": {},
   "outputs": [],
   "source": [
    "def get_average_scores(directors):\n",
    "    '''Filter out directors with < MIN_MOVIES and calculate averge score'''\n",
    "    directors = {key: {'score': \n",
    "                       _calc_mean(val),\n",
    "                       'movies':\n",
    "                       [movie for movie in val if int(movie.year) >= MIN_YEAR]}\n",
    "                 for key, val in directors.items() \n",
    "                 if (len(val) >= MIN_MOVIES) & (key != '')}\n",
    "    return directors"
   ]
  },
  {
   "cell_type": "code",
   "execution_count": 6,
   "metadata": {},
   "outputs": [],
   "source": [
    "def _calc_mean(movies):\n",
    "    return round(sum(\n",
    "        [float(movie.score) \n",
    "         for movie in movies \n",
    "         if int(movie.year) >= MIN_YEAR]\n",
    "        ) / len(movies), 1)"
   ]
  },
  {
   "cell_type": "code",
   "execution_count": 7,
   "metadata": {},
   "outputs": [],
   "source": [
    "def print_results(directors):\n",
    "    scores = {key: val['score'] for key, val in directors.items()}\n",
    "    sorted_directors = sorted(scores, key=scores.__getitem__, reverse=True)\n",
    "       \n",
    "    for counter, director in enumerate(sorted_directors):     \n",
    "        if counter == 20:\n",
    "            break\n",
    "        vals = directors[director]\n",
    "        avg = round(vals['score'],1)\n",
    "        print(f'{counter + 1:02}. {director:<52} {avg}')\n",
    "        \n",
    "        for movie in vals['movies']:\n",
    "            print(f'{movie.year}] {movie.title:<50} {movie.score}')\n",
    "        print('-' * 60)"
   ]
  },
  {
   "cell_type": "code",
   "execution_count": 8,
   "metadata": {},
   "outputs": [],
   "source": [
    "directors = get_movies_by_director()"
   ]
  },
  {
   "cell_type": "code",
   "execution_count": 9,
   "metadata": {},
   "outputs": [
    {
     "data": {
      "text/plain": [
       "8.5"
      ]
     },
     "execution_count": 9,
     "metadata": {},
     "output_type": "execute_result"
    }
   ],
   "source": [
    "_calc_mean(directors['Sergio Leone'])\n",
    "# directors['Sergio Leone']"
   ]
  },
  {
   "cell_type": "code",
   "execution_count": 10,
   "metadata": {},
   "outputs": [],
   "source": [
    "directors = get_average_scores(directors)"
   ]
  },
  {
   "cell_type": "code",
   "execution_count": 11,
   "metadata": {},
   "outputs": [
    {
     "name": "stdout",
     "output_type": "stream",
     "text": [
      "01. Sergio Leone                                         8.5\n",
      "1984] Once Upon a Time in America                        8.4\n",
      "1968] Once Upon a Time in the West                       8.6\n",
      "1966] The Good, the Bad and the Ugly                     8.9\n",
      "1964] A Fistful of Dollars                               8.0\n",
      "------------------------------------------------------------\n",
      "02. Christopher Nolan                                    8.4\n",
      "2012] The Dark Knight Rises                              8.5\n",
      "2008] The Dark Knight                                    9.0\n",
      "2014] Interstellar                                       8.6\n",
      "2010] Inception                                          8.8\n",
      "2005] Batman Begins                                      8.3\n",
      "2002] Insomnia                                           7.2\n",
      "2006] The Prestige                                       8.5\n",
      "2000] Memento                                            8.5\n",
      "------------------------------------------------------------\n",
      "03. Quentin Tarantino                                    8.2\n",
      "2012] Django Unchained                                   8.5\n",
      "2009] Inglourious Basterds                               8.3\n",
      "2015] The Hateful Eight                                  7.9\n",
      "2003] Kill Bill: Vol. 1                                  8.1\n",
      "2004] Kill Bill: Vol. 2                                  8.0\n",
      "1997] Jackie Brown                                       7.5\n",
      "1994] Pulp Fiction                                       8.9\n",
      "1992] Reservoir Dogs                                     8.4\n",
      "------------------------------------------------------------\n",
      "04. Hayao Miyazaki                                       8.2\n",
      "2008] Ponyo                                              7.7\n",
      "2004] Howl's Moving Castle                               8.2\n",
      "1997] Princess Mononoke                                  8.4\n",
      "2001] Spirited Away                                      8.6\n",
      "------------------------------------------------------------\n",
      "05. Frank Darabont                                       8.0\n",
      "2001] The Majestic                                       6.9\n",
      "1999] The Green Mile                                     8.5\n",
      "1994] The Shawshank Redemption                           9.3\n",
      "2007] The Mist                                           7.2\n",
      "------------------------------------------------------------\n",
      "06. Stanley Kubrick                                      8.0\n",
      "1999] Eyes Wide Shut                                     7.3\n",
      "1962] Lolita                                             7.7\n",
      "1980] The Shining                                        8.4\n",
      "1975] Barry Lyndon                                       8.1\n",
      "1968] 2001: A Space Odyssey                              8.3\n",
      "1962] Lolita                                             7.7\n",
      "1964] Dr. Strangelove or: How I Learned to Stop Worrying and Love the Bomb 8.5\n",
      "------------------------------------------------------------\n",
      "07. James Cameron                                        7.9\n",
      "2009] Avatar                                             7.9\n",
      "1997] Titanic                                            7.7\n",
      "1991] Terminator 2: Judgment Day                         8.5\n",
      "1994] True Lies                                          7.2\n",
      "1989] The Abyss                                          7.6\n",
      "1986] Aliens                                             8.4\n",
      "1984] The Terminator                                     8.1\n",
      "------------------------------------------------------------\n",
      "08. Joss Whedon                                          7.9\n",
      "2015] Avengers: Age of Ultron                            7.5\n",
      "2012] The Avengers                                       8.1\n",
      "2012] The Avengers                                       8.1\n",
      "2005] Serenity                                           8.0\n",
      "------------------------------------------------------------\n",
      "09. Alejandro G. Iñárritu                                7.8\n",
      "2015] The Revenant                                       8.1\n",
      "2010] Biutiful                                           7.5\n",
      "2006] Babel                                              7.5\n",
      "2003] 21 Grams                                           7.7\n",
      "2014] Birdman or (The Unexpected Virtue of Ignorance)    7.8\n",
      "2000] Amores Perros                                      8.1\n",
      "------------------------------------------------------------\n",
      "10. Alfonso Cuarón                                       7.8\n",
      "2004] Harry Potter and the Prisoner of Azkaban           7.8\n",
      "2013] Gravity                                            7.8\n",
      "2006] Children of Men                                    7.9\n",
      "2001] Y Tu Mamá También                                  7.7\n",
      "------------------------------------------------------------\n",
      "11. Peter Jackson                                        7.7\n",
      "2014] The Hobbit: The Battle of the Five Armies          7.5\n",
      "2013] The Hobbit: The Desolation of Smaug                7.9\n",
      "2005] King Kong                                          7.2\n",
      "2012] The Hobbit: An Unexpected Journey                  7.9\n",
      "2001] The Lord of the Rings: The Fellowship of the Ring  8.8\n",
      "2009] The Lovely Bones                                   6.7\n",
      "2003] The Lord of the Rings: The Return of the King      8.9\n",
      "2002] The Lord of the Rings: The Two Towers              8.7\n",
      "2005] King Kong                                          7.2\n",
      "1994] Heavenly Creatures                                 7.4\n",
      "2009] The Lovely Bones                                   6.7\n",
      "2005] King Kong                                          7.2\n",
      "------------------------------------------------------------\n",
      "12. Martin Scorsese                                      7.7\n",
      "2011] Hugo                                               7.5\n",
      "2004] The Aviator                                        7.5\n",
      "2013] The Wolf of Wall Street                            8.2\n",
      "2002] Gangs of New York                                  7.5\n",
      "2006] The Departed                                       8.5\n",
      "2010] Shutter Island                                     8.1\n",
      "1995] Casino                                             8.2\n",
      "1973] Mean Streets                                       7.4\n",
      "1991] Cape Fear                                          7.3\n",
      "1993] The Age of Innocence                               7.2\n",
      "1999] Bringing Out the Dead                              6.8\n",
      "1997] Kundun                                             7.0\n",
      "1990] Goodfellas                                         8.7\n",
      "1980] Raging Bull                                        8.3\n",
      "1977] New York, New York                                 6.7\n",
      "1986] The Color of Money                                 7.0\n",
      "1988] The Last Temptation of Christ                      7.6\n",
      "1976] Taxi Driver                                        8.3\n",
      "2008] Shine a Light                                      7.2\n",
      "1978] The Last Waltz                                     8.2\n",
      "------------------------------------------------------------\n",
      "13. David Fincher                                        7.7\n",
      "2008] The Curious Case of Benjamin Button                7.8\n",
      "2011] The Girl with the Dragon Tattoo                    7.8\n",
      "2007] Zodiac                                             7.7\n",
      "1999] Fight Club                                         8.8\n",
      "2014] Gone Girl                                          8.1\n",
      "1992] Alien 3                                            6.4\n",
      "1997] The Game                                           7.8\n",
      "2002] Panic Room                                         6.8\n",
      "2010] The Social Network                                 7.7\n",
      "1995] Se7en                                              8.6\n",
      "------------------------------------------------------------\n",
      "14. Matthew Vaughn                                       7.7\n",
      "2011] X-Men: First Class                                 7.8\n",
      "2007] Stardust                                           7.7\n",
      "2010] Kick-Ass                                           7.7\n",
      "2004] Layer Cake                                         7.4\n",
      "------------------------------------------------------------\n",
      "15. Peter Weir                                           7.7\n",
      "2003] Master and Commander: The Far Side of the World    7.4\n",
      "1998] The Truman Show                                    8.1\n",
      "1989] Dead Poets Society                                 8.0\n",
      "1985] Witness                                            7.4\n",
      "------------------------------------------------------------\n",
      "16. Brad Bird                                            7.6\n",
      "2015] Tomorrowland                                       6.5\n",
      "2007] Ratatouille                                        8.0\n",
      "2011] Mission: Impossible - Ghost Protocol               7.4\n",
      "2004] The Incredibles                                    8.0\n",
      "1999] The Iron Giant                                     8.0\n",
      "------------------------------------------------------------\n",
      "17. Paul Greengrass                                      7.6\n",
      "2007] The Bourne Ultimatum                               8.1\n",
      "2016] Jason Bourne                                       7.1\n",
      "2010] Green Zone                                         6.9\n",
      "2004] The Bourne Supremacy                               7.8\n",
      "2013] Captain Phillips                                   7.9\n",
      "2006] United 93                                          7.6\n",
      "2002] Bloody Sunday                                      7.7\n",
      "------------------------------------------------------------\n",
      "18. Spike Jonze                                          7.6\n",
      "2009] Where the Wild Things Are                          6.8\n",
      "2013] Her                                                8.0\n",
      "2002] Adaptation.                                        7.7\n",
      "1999] Being John Malkovich                               7.8\n",
      "------------------------------------------------------------\n",
      "19. Edgar Wright                                         7.6\n",
      "2010] Scott Pilgrim vs. the World                        7.5\n",
      "2013] The World's End                                    7.0\n",
      "2007] Hot Fuzz                                           7.9\n",
      "2004] Shaun of the Dead                                  8.0\n",
      "------------------------------------------------------------\n",
      "20. Wes Anderson                                         7.6\n",
      "2004] The Life Aquatic with Steve Zissou                 7.3\n",
      "2009] Fantastic Mr. Fox                                  7.8\n",
      "2014] The Grand Budapest Hotel                           8.1\n",
      "2001] The Royal Tenenbaums                               7.6\n",
      "2012] Moonrise Kingdom                                   7.8\n",
      "1998] Rushmore                                           7.7\n",
      "1996] Bottle Rocket                                      7.1\n",
      "------------------------------------------------------------\n"
     ]
    }
   ],
   "source": [
    "print_results(directors)"
   ]
  },
  {
   "cell_type": "code",
   "execution_count": 41,
   "metadata": {},
   "outputs": [],
   "source": [
    "def test():\n",
    "    directors = get_movies_by_director()\n",
    "\n",
    "    assert 'Sergio Leone' in directors\n",
    "    assert 'Andrew Stanton' in directors  # has 3 movies, but not yet filtered\n",
    "    assert len(directors['Sergio Leone']) == 4\n",
    "    assert len(directors['Peter Jackson']) == 12\n",
    "\n",
    "    movies_sergio = directors['Sergio Leone']\n",
    "    movies_nolan = directors['Christopher Nolan']\n",
    "    assert _calc_mean(movies_sergio) == 8.5\n",
    "    assert _calc_mean(movies_nolan) == 8.4\n",
    "\n",
    "    directors = get_average_scores(directors)\n",
    "    assert 'Andrew Stanton' not in directors  # director 3 movies now filtered out\n",
    "\n",
    "    expected_directors = ['Sergio Leone', 'Christopher Nolan', 'Quentin Tarantino',\n",
    "                          'Hayao Miyazaki', 'Frank Darabont', 'Stanley Kubrick']\n",
    "    expected_avg_scores = [8.5, 8.4, 8.2, 8.2, 8.0, 8.0]\n",
    "    expected_num_movies = [4, 8, 8, 4, 4, 7]\n",
    "\n",
    "    for counter, (i, j, k) in enumerate(\n",
    "                            zip(expected_directors,\n",
    "                                expected_avg_scores, expected_num_movies)):\n",
    "\n",
    "        assert (report[counter][0], report[counter][1]['score']) == (i, j)\n",
    "        assert len(report[counter][1]['movies']) == k\n",
    "        assert  _calc_mean(report[counter][1]['movies']) == j\n",
    "\n",
    "    return \"tests pass\""
   ]
  },
  {
   "cell_type": "code",
   "execution_count": 43,
   "metadata": {},
   "outputs": [
    {
     "data": {
      "text/plain": [
       "'tests pass'"
      ]
     },
     "execution_count": 43,
     "metadata": {},
     "output_type": "execute_result"
    }
   ],
   "source": [
    "test()"
   ]
  }
 ],
 "metadata": {
  "kernelspec": {
   "display_name": "Python 3",
   "language": "python",
   "name": "python3"
  },
  "language_info": {
   "codemirror_mode": {
    "name": "ipython",
    "version": 3
   },
   "file_extension": ".py",
   "mimetype": "text/x-python",
   "name": "python",
   "nbconvert_exporter": "python",
   "pygments_lexer": "ipython3",
   "version": "3.6.5"
  }
 },
 "nbformat": 4,
 "nbformat_minor": 2
}
